{
 "cells": [
  {
   "cell_type": "code",
   "execution_count": 138,
   "id": "92a44ba0",
   "metadata": {},
   "outputs": [
    {
     "name": "stdout",
     "output_type": "stream",
     "text": [
      "\u001b[2K\u001b[2mResolved \u001b[1m121 packages\u001b[0m \u001b[2min 210ms\u001b[0m\u001b[0m                                       \u001b[0m\n",
      "\u001b[2mAudited \u001b[1m121 packages\u001b[0m \u001b[2min 1ms\u001b[0m\u001b[0m\n"
     ]
    }
   ],
   "source": [
    "!uv pip install --upgrade langchain langchain-core langchain-openai langchain-community langchain-chroma langgraph"
   ]
  },
  {
   "cell_type": "code",
   "execution_count": 139,
   "id": "432ba909",
   "metadata": {},
   "outputs": [],
   "source": [
    "# vector store 생성\n",
    "from langchain_chroma import Chroma\n",
    "from langchain_openai import OpenAIEmbeddings\n",
    "\n",
    "embeddings = OpenAIEmbeddings(model=\"text-embedding-3-large\")\n",
    "\n",
    "vector_store = Chroma(\n",
    "    collection_name=\"income_tax_collection\",\n",
    "    persist_directory=\"./income_tax_collection\",\n",
    "    embedding_function=embeddings\n",
    ")\n",
    "\n",
    "retriver = vector_store.as_retriever(search_kwargs={\"k\": 3})"
   ]
  },
  {
   "cell_type": "code",
   "execution_count": 140,
   "id": "a35c9937",
   "metadata": {},
   "outputs": [],
   "source": [
    "# llm 설정\n",
    "from langchain_openai import ChatOpenAI\n",
    "\n",
    "llm = ChatOpenAI(model=\"gpt-4o\")"
   ]
  },
  {
   "cell_type": "code",
   "execution_count": 141,
   "id": "29379037",
   "metadata": {},
   "outputs": [],
   "source": [
    "# StateGraph\n",
    "from typing_extensions import List, TypedDict\n",
    "from langchain_core.documents import Document\n",
    "\n",
    "class AgentState(TypedDict):\n",
    "    question: str\n",
    "    answer: str\n",
    "    context: List[Document]"
   ]
  },
  {
   "cell_type": "code",
   "execution_count": 142,
   "id": "0406d324",
   "metadata": {},
   "outputs": [],
   "source": [
    "# graph builder\n",
    "from langgraph.graph import StateGraph\n",
    "\n",
    "graph_builder = StateGraph(AgentState)"
   ]
  },
  {
   "cell_type": "code",
   "execution_count": 143,
   "id": "f55f0195",
   "metadata": {},
   "outputs": [],
   "source": [
    "# retriver node\n",
    "def retrive(state: AgentState) -> AgentState:\n",
    "    question = state[\"question\"]\n",
    "    docs = retriver.invoke(question)\n",
    "    return {\"context\": docs}"
   ]
  },
  {
   "cell_type": "code",
   "execution_count": 144,
   "id": "36f00697",
   "metadata": {},
   "outputs": [],
   "source": [
    "from langchain_classic import hub\n",
    "\n",
    "generate_prompt = hub.pull(\"rlm/rag-prompt\")\n",
    "\n",
    "def generate(state: AgentState) -> AgentState:\n",
    "    content = state[\"context\"]\n",
    "    question = state[\"question\"]\n",
    "    rag_chain = generate_prompt | llm\n",
    "    answer = rag_chain.invoke({\"context\": content, \"question\": question})\n",
    "\n",
    "    print(f\"answer: {answer.content}\")\n",
    "    return {\"answer\": answer.content}"
   ]
  },
  {
   "cell_type": "code",
   "execution_count": 145,
   "id": "885d2515",
   "metadata": {},
   "outputs": [],
   "source": [
    "# chekc docs node\n",
    "from langchain_classic import hub\n",
    "from typing import Literal\n",
    "\n",
    "doc_relevance_prompt = hub.pull(\"langchain-ai/rag-document-relevance\")\n",
    "\n",
    "def relevance_doc(state: AgentState) -> Literal['relevant', 'irrelevant']:\n",
    "    question = state[\"question\"]\n",
    "    context = state[\"context\"]\n",
    "    doc_relevance_chain = doc_relevance_prompt | llm\n",
    "    relevance = doc_relevance_chain.invoke({\"question\": question, \"documents\": context})\n",
    "\n",
    "    print(f\"context: {context}\")\n",
    "    print(f\"relevance: {relevance}\")\n",
    "\n",
    "    if relevance['Score'] == 1:\n",
    "        return 'relevant'\n",
    "    \n",
    "    return 'irrelevant'\n"
   ]
  },
  {
   "cell_type": "code",
   "execution_count": 146,
   "id": "137cab5d",
   "metadata": {},
   "outputs": [],
   "source": [
    "# rewrite node\n",
    "from langchain_core.prompts import PromptTemplate\n",
    "from langchain_core.output_parsers import StrOutputParser\n",
    "\n",
    "dictionary = [\"사람과 관련된 표현 -> 거주자\", \"세금과 관련된 표현 -> 누진세 포함\"]\n",
    "\n",
    "rewrite_prompt = PromptTemplate.from_template(f\"\"\"\n",
    "사용자의 질문을 보고, 우리의 사전을 참고해서 사용자의 질문을 변경해주세요\n",
    "사전: {dictionary}\n",
    "질문: {{question}}\n",
    "\"\"\")\n",
    "\n",
    "def rewrite(state: AgentState):\n",
    "    question = state[\"question\"]\n",
    "    rewrite_chain = rewrite_prompt | llm | StrOutputParser()\n",
    "    rewritten_question = rewrite_chain.invoke({\"question\": question})\n",
    "\n",
    "    print(f\"rewritten_question: {rewritten_question}\")\n",
    "    return {\"question\": rewritten_question}"
   ]
  },
  {
   "cell_type": "code",
   "execution_count": 147,
   "id": "f7f6d962",
   "metadata": {},
   "outputs": [],
   "source": [
    "# hallucination node\n",
    "from langchain_core.prompts import PromptTemplate\n",
    "from langchain_core.output_parsers import StrOutputParser\n",
    "\n",
    "hallucination_prompt = PromptTemplate.from_template(f\"\"\"\n",
    "You are a theache tasked with evaluation whether a studen's answer is based on facts or not,\n",
    "Chech whether ther student's anser is hallucianted or not\n",
    "given context, which are excerpts from income tax law, and a student's answer,\n",
    "If the student's answer is based on facts, respond with \"not hlluciated\"\n",
    "If the student's answer is not based on facts, respond with \"hallucinated\"\n",
    "학생의 답변: {{student_answer}}\n",
    "documents: {{documents}}\n",
    "\"\"\")\n",
    "\n",
    "hallucination_llm = ChatOpenAI(model=\"gpt-4o\", temperature=0)\n",
    "\n",
    "def chekc_hallucination(state: AgentState) -> Literal['not hallucinated', 'hallucinated']:\n",
    "    answer = state[\"answer\"]\n",
    "    context = state[\"context\"]\n",
    "    context = [doc.page_content for doc in context]\n",
    "    hallucination_chain = hallucination_prompt | hallucination_llm | StrOutputParser()\n",
    "    response = hallucination_chain.invoke({\"student_answer\": answer, \"documents\": context})\n",
    "\n",
    "    print(f\"context: {context}\")\n",
    "    print(f\"response: {response}\")\n",
    "    \n",
    "    return response\n",
    "\n",
    "    \n"
   ]
  },
  {
   "cell_type": "code",
   "execution_count": 148,
   "id": "19491658",
   "metadata": {},
   "outputs": [],
   "source": [
    "from langchain_classic import hub\n",
    "helpfulness_prompt = hub.pull(\"langchain-ai/rag-answer-helpfulness\")\n",
    "\n",
    "def check_helpfulness_grader(state: AgentState):\n",
    "    question = state[\"question\"]\n",
    "    answer = state[\"answer\"]\n",
    "    helpfulness_chain = helpfulness_prompt | llm\n",
    "    response = helpfulness_chain.invoke({\"question\": question, \"student_answer\": answer})\n",
    "\n",
    "    print(f\"helpfulness: {response}\")\n",
    "\n",
    "    if response['Score'] == 1:\n",
    "        return 'helpful'\n",
    "    \n",
    "    return 'not helpful'\n",
    "    \n",
    "    \n",
    "def check_helpfulness(state: AgentState) -> Literal['helpful', 'not helpful']:\n",
    "    return state"
   ]
  },
  {
   "cell_type": "code",
   "execution_count": 149,
   "id": "411955b0",
   "metadata": {},
   "outputs": [
    {
     "data": {
      "text/plain": [
       "<langgraph.graph.state.StateGraph at 0x13fe76210>"
      ]
     },
     "execution_count": 149,
     "metadata": {},
     "output_type": "execute_result"
    }
   ],
   "source": [
    "graph_builder.add_node(\"retrive\", retrive)\n",
    "graph_builder.add_node(\"generate\", generate)\n",
    "graph_builder.add_node(\"rewrite\", rewrite)\n",
    "graph_builder.add_node(\"helpfulness\", check_helpfulness)\n"
   ]
  },
  {
   "cell_type": "code",
   "execution_count": 150,
   "id": "58d95869",
   "metadata": {},
   "outputs": [
    {
     "data": {
      "text/plain": [
       "<langgraph.graph.state.StateGraph at 0x13fe76210>"
      ]
     },
     "execution_count": 150,
     "metadata": {},
     "output_type": "execute_result"
    }
   ],
   "source": [
    "from langgraph.graph import START, END\n",
    "\n",
    "graph_builder.add_edge(START, \"retrive\")\n",
    "graph_builder.add_conditional_edges(\n",
    "    \"retrive\",\n",
    "    relevance_doc,\n",
    "    {\n",
    "        \"relevant\": \"generate\",\n",
    "        \"irrelevant\": END\n",
    "    }\n",
    ")\n",
    "\n",
    "graph_builder.add_conditional_edges(\n",
    "    \"generate\",\n",
    "    chekc_hallucination,\n",
    "    {\n",
    "        \"not hallucinated\": \"helpfulness\",\n",
    "        \"hallucinated\": \"generate\"\n",
    "    }\n",
    ")\n",
    "\n",
    "graph_builder.add_conditional_edges(\n",
    "    \"helpfulness\",\n",
    "    check_helpfulness_grader,\n",
    "    {\n",
    "        \"helpful\": END,\n",
    "        \"not helpful\": 'rewrite'\n",
    "    }\n",
    ")\n",
    "\n",
    "graph_builder.add_edge(\"rewrite\", \"retrive\")\n"
   ]
  },
  {
   "cell_type": "code",
   "execution_count": 151,
   "id": "2114eb21",
   "metadata": {},
   "outputs": [],
   "source": [
    "graph = graph_builder.compile()\n"
   ]
  },
  {
   "cell_type": "code",
   "execution_count": 152,
   "id": "f0e3617e",
   "metadata": {},
   "outputs": [
    {
     "data": {
      "image/png": "[encoded data removed]",
      "text/plain": [
       "<IPython.core.display.Image object>"
      ]
     },
     "metadata": {},
     "output_type": "display_data"
    }
   ],
   "source": [
    "from IPython.display import Image, display\n",
    "\n",
    "display(Image(graph.get_graph().draw_mermaid_png()))"
   ]
  },
  {
   "cell_type": "code",
   "execution_count": 153,
   "id": "0696a956",
   "metadata": {},
   "outputs": [
    {
     "name": "stdout",
     "output_type": "stream",
     "text": [
      "context: [Document(id='176763a6-b0d9-4314-83bb-032dd06e2ff3', metadata={'source': './documents/income_tax.txt'}, page_content='<전문개정 2009. 12. 31.>  \\n제57조(세액의 기산)\\n<개정 2009. 12. 31.>  \\n제1편 시행 <전문개정 2009. 12. 31.>\\n소득세법\\n제55조(세율)\\n거주자의 종합소득에 대한 소득세는 해당 연도의 종합소득과세표준에 다음의 세율을 적용하여 계산한 금액(이하 “종합소득산출세액”이라 한다)을 그 세액으로 한다. <개정 2014. 1. 1., 2016. 12. 20., 2017. 12. 19., 2020. 12. 29., 2022. 12. 31.>\\n과세표준\\n| 과세표준     | 세  율               |\\n|-----------|------------------|\\n| 1,400만원 이하  | 각 세 표준의 6개 천분    |\\n| 1,400만원 초과 ~ 5,000만원 이하 | 15% (1,400만원을 초과하는 금액의 15%천분) |\\n| 5,000만원 초과 ~ 8,000만원 이하 | 24% (5,000만원을 초과하는 금액의 24%천분) |\\n| 8,000만원 초과 ~ 1억5천만원 이하 | 35% (8,800만원을 초과하는 금액의 35%천분) |\\n| 1억5천만원 초과 ~ 3억원 이하 | 38% (1억5천만원을 초과하는 금액의 38%천분) |\\n| 3억원 초과 ~ 5억원 이하 | 40% (3억원을 초과하는 금액의 40%천분) |\\n| 5억원 초과 | 42% (5억원을 초과하는 금액의 42%천분) |\\n② 거주자의 퇴직소득에 대한 소득세는 다음 각 호의 순서에 따라 계산한 금액(이하 “퇴직소득 산출세액”이라 한다)으로 한다. <개정 2013. 1. 1., 2014. 12. 23.>\\n1. 해당 과세기간의 퇴직소득과세표준에 제1항의 세율을 적용하여 계산한 금액\\n2. 삭제<2014. 12. 23.>\\n[전문개정 2009. 12. 31.]\\n제56조(배당소득의 정의)\\n거주자의 종합소득에 제17조제3항 각 호 외의 부분 단서가 적용되는 배당소득액이 합산되어 있는 경우에는 같은 각 호 외의 부분 단서에 따라 해당 과세기간의 총유형소득에 대한 금액을 종합소득 산출세액에 적용한다. <개정 2009. 12. 31.>\\n1. 제18조에 따른 규제를 “배당소득규제”라 한다.<개정 2009. 12. 31.>\\n2. 삭제<2008. 12. 30.>\\n3. 제1항을 적용할 때 배당소득규제에 대상이 되는 배당소득금액은 제14조제1항의 종합소득과세표준에 포함된 배당소득금액으로서 이자소득의 종합과세의금액을 초과하는 것으로 한다.<개정 2009. 12. 31.>\\n4. 삭제<2006. 12. 30.>\\n5. 배당소득규제의 계산 등에 필요한 사항은 대통령령으로 정한다.<개정 2009. 12. 31.>\\n제56조의2(기타소득의 규정)'), Document(id='e24539c9-51aa-44b1-a1c2-636c1b202607', metadata={'source': './documents/income_tax.txt'}, page_content='| 환산금액         | 공 제 액       |\\n|------------------|----------------|\\n| 8백만원 이하     | 환산금여의 100퍼센트 |\\n| 8백만원 초과 7천만원 이하 | 8백만원 + (8백만원 초과분의 60퍼센트) |\\n| 7천만원 초과 1억원 이하 | 4천520만원 + (7천만원 초과분의 55퍼센트) |\\n| 1억원 초과 3억원 이하 | 6천170만원 + (1억원 초과분의 45퍼센트) |\\n| 3억원 초과       | 1억5710만원 + (3억원 초과분의 35퍼센트) |\\n② 해당 과세기간의 퇴직소득금액에 제1항제1호에 따른 공제금액에 미달하는 경우에는 그 퇴직소득액을 공제액으로 한다. <개정 2014. 12. 23.>\\n③ 제1항과 제2항에 따른 공제를 \"퇴직소득공제\"라 한다.\\n➃ 퇴직소득공제에 관한 사항은 대통령령으로 정한다.\\n⑤ 사실<2013. 1. 1.>\\n[전문개정 2009. 12. 31.]\\n제49조 삭제 <2006. 12. 30.>\\n제6관 종합소득공격 <개정 2009. 12. 31.>\\n제50조(기본공적) 다음 각 호의 어느 하나에 해당하는 사람 외 수입이 1명 당 150만원을 초과하여 계산한 금액을 그 거주자의 해당 과세기간의 종합소득금액에 포함한다. <개정 2015. 12. 15, 2024. 12. 31.>\\n1. 해다 거주자\\n2. 거주자에 배우자로서 해당 과세기간의 소득금액이 없거나 해당 과세기간에 소득금액 합계액이 100만원 이하인 사람(종합소득이 500만원 이하인 로스로소한 있는 배우자를 포함한다)\\n3. 거주자와 배우자를 포함한다. 이하 호의에 있어 같거나 생계를 같이 하는 각 목의 어느 하나에 해당하는 부양가족(제151조제1항제2호에 해당하는 경우에는 나이의 제한을 받지 아니한다)으로써 해당 거주자의 소득금액 합계액이 100만원 이하인 사람(종합소득이 500만원 이하인 부양가족을 포함한다)\\n가. 거주자의 계층(직계존속에 재혼한 경우에는 배우자로 대립동료를 정하는 사람을 포함한다)으로서 60세 이상의 사람\\n나. 거주자의 계층식으로서 대립동료를 정하는 사람과 대립동료는 정하는 50세 임인자(이하 \"임인자\" 한 다)로서 20세 이하(20세) 되는 날부터 이 조에 해당하는 경우, 이하 이 조에 해당하는 사람, 이 경우 해 당 제4비속은 임인자와 배우자로서 제150조제1항제3호에 해당하는 경우에는 그 배우자를 포함한다.\\n다. 거주자의 형제자매로서 24세 이하 또는 60세 이상인 사람\\n라. \"구민국조생활 보정법\",에 따른 수급관계 중 대립동료로서 정하는 사람.\\n마. \"가족복지법\"에 따른 가정위탁을 받을 수 있는 자로서 대립동료로서 정하는 사람(이하 \"위탁자\"라 한다)\\n제정에 따른 규제를 \"기본공적\"라 한다.\\n거주자의 배우자 또는 부양가족이 다른 거주자의 부양가족에 해당되는 경우에는 대립동료로 정하는 바에 따 립 이념은 한 거주자의 종합소득금액에 포함한다. <전문개정 2009. 12. 31.>'), Document(id='c7964974-8da3-418f-9197-129ad39eaa20', metadata={'source': './documents/income_tax.txt'}, page_content='20년 초과                                           1,200만원 + 120만원 × (납입연수 - 20)\\n① 직장공제 초과가입환급금을 분배하여 지급받는 경우 세액의 계산 방법 등 사항은 대통령령으로 정한다. <신설 2014. 12. 23.> <전문개정 2009. 12. 31.> \\n제64조(부동산매매임대에 대한 세액 계산의 특례) ① 대통령령으로 정하는 부동산매매임대(이하 “부동산매매임대”라 한다)를 영위하는 거주자(이하 “부동산매매자”라 한다)로서 종합소득금액에 대해 제104조제1항제1호(분양권에 해당한다) 및 제3조 제1호 또는 같은 조 제3항 각 호의 어느 하나에 해당하는 자산의 매매차익(이하 “주택등매차익”이라 한다)이 있는 자의 종합소득산출세액은 다음 각 호의 세액 중 많은 것으로 한다. <개정 2014. 12. 23., 2017. 12. 19., 2020. 12. 29.>')]\n",
      "relevance: {'Score': 1, 'Explanation': \"To determine the relevance of the provided facts with respect to the question '연봉 5천만원 거주자의 소득세는 얼마인가요?' (What is the income tax for a resident with a salary of 50 million won?), we need to examine the content.\\n\\nThe facts include detailed information on the income tax rates and brackets for different income levels under the Korean tax system. These tax rates and brackets are critical for calculating income tax based on various income thresholds. Specifically, the income range provided (1,400만원 초과 ~ 5,000만원 이하) directly aligns with the question as it mentions the 15% tax rate applicable for incomes between over 14 million won up to 50 million won.\\n\\nMoreover, additional content discusses the calculation methods for different types of income such as retirement and dividend income, which although not directly asked for by the question, still relate conceptually to the overarching topic of income tax calculation.\\n\\nTherefore, considering the key phrase from the question, '5천만원 거주자의 소득세' (Income tax for a resident earning 50 million won), and the provided tax bracket information that includes this income level, the facts are indeed relevant for determining the income tax liability for the specified salary, thus meeting the criteria for relevancy.\"}\n",
      "answer: 연봉 5천만 원 거주자의 소득세는 해당 금액 중 1,400만 원을 초과하는 부분에 대해 15%의 세율이 적용됩니다. 따라서, 5천만 원에서 1,400만 원을 뺀 3,600만 원에 대해 15%의 세금, 즉 540만 원이 산출됩니다.\n",
      "context: ['<전문개정 2009. 12. 31.>  \\n제57조(세액의 기산)\\n<개정 2009. 12. 31.>  \\n제1편 시행 <전문개정 2009. 12. 31.>\\n소득세법\\n제55조(세율)\\n거주자의 종합소득에 대한 소득세는 해당 연도의 종합소득과세표준에 다음의 세율을 적용하여 계산한 금액(이하 “종합소득산출세액”이라 한다)을 그 세액으로 한다. <개정 2014. 1. 1., 2016. 12. 20., 2017. 12. 19., 2020. 12. 29., 2022. 12. 31.>\\n과세표준\\n| 과세표준     | 세  율               |\\n|-----------|------------------|\\n| 1,400만원 이하  | 각 세 표준의 6개 천분    |\\n| 1,400만원 초과 ~ 5,000만원 이하 | 15% (1,400만원을 초과하는 금액의 15%천분) |\\n| 5,000만원 초과 ~ 8,000만원 이하 | 24% (5,000만원을 초과하는 금액의 24%천분) |\\n| 8,000만원 초과 ~ 1억5천만원 이하 | 35% (8,800만원을 초과하는 금액의 35%천분) |\\n| 1억5천만원 초과 ~ 3억원 이하 | 38% (1억5천만원을 초과하는 금액의 38%천분) |\\n| 3억원 초과 ~ 5억원 이하 | 40% (3억원을 초과하는 금액의 40%천분) |\\n| 5억원 초과 | 42% (5억원을 초과하는 금액의 42%천분) |\\n② 거주자의 퇴직소득에 대한 소득세는 다음 각 호의 순서에 따라 계산한 금액(이하 “퇴직소득 산출세액”이라 한다)으로 한다. <개정 2013. 1. 1., 2014. 12. 23.>\\n1. 해당 과세기간의 퇴직소득과세표준에 제1항의 세율을 적용하여 계산한 금액\\n2. 삭제<2014. 12. 23.>\\n[전문개정 2009. 12. 31.]\\n제56조(배당소득의 정의)\\n거주자의 종합소득에 제17조제3항 각 호 외의 부분 단서가 적용되는 배당소득액이 합산되어 있는 경우에는 같은 각 호 외의 부분 단서에 따라 해당 과세기간의 총유형소득에 대한 금액을 종합소득 산출세액에 적용한다. <개정 2009. 12. 31.>\\n1. 제18조에 따른 규제를 “배당소득규제”라 한다.<개정 2009. 12. 31.>\\n2. 삭제<2008. 12. 30.>\\n3. 제1항을 적용할 때 배당소득규제에 대상이 되는 배당소득금액은 제14조제1항의 종합소득과세표준에 포함된 배당소득금액으로서 이자소득의 종합과세의금액을 초과하는 것으로 한다.<개정 2009. 12. 31.>\\n4. 삭제<2006. 12. 30.>\\n5. 배당소득규제의 계산 등에 필요한 사항은 대통령령으로 정한다.<개정 2009. 12. 31.>\\n제56조의2(기타소득의 규정)', '| 환산금액         | 공 제 액       |\\n|------------------|----------------|\\n| 8백만원 이하     | 환산금여의 100퍼센트 |\\n| 8백만원 초과 7천만원 이하 | 8백만원 + (8백만원 초과분의 60퍼센트) |\\n| 7천만원 초과 1억원 이하 | 4천520만원 + (7천만원 초과분의 55퍼센트) |\\n| 1억원 초과 3억원 이하 | 6천170만원 + (1억원 초과분의 45퍼센트) |\\n| 3억원 초과       | 1억5710만원 + (3억원 초과분의 35퍼센트) |\\n② 해당 과세기간의 퇴직소득금액에 제1항제1호에 따른 공제금액에 미달하는 경우에는 그 퇴직소득액을 공제액으로 한다. <개정 2014. 12. 23.>\\n③ 제1항과 제2항에 따른 공제를 \"퇴직소득공제\"라 한다.\\n➃ 퇴직소득공제에 관한 사항은 대통령령으로 정한다.\\n⑤ 사실<2013. 1. 1.>\\n[전문개정 2009. 12. 31.]\\n제49조 삭제 <2006. 12. 30.>\\n제6관 종합소득공격 <개정 2009. 12. 31.>\\n제50조(기본공적) 다음 각 호의 어느 하나에 해당하는 사람 외 수입이 1명 당 150만원을 초과하여 계산한 금액을 그 거주자의 해당 과세기간의 종합소득금액에 포함한다. <개정 2015. 12. 15, 2024. 12. 31.>\\n1. 해다 거주자\\n2. 거주자에 배우자로서 해당 과세기간의 소득금액이 없거나 해당 과세기간에 소득금액 합계액이 100만원 이하인 사람(종합소득이 500만원 이하인 로스로소한 있는 배우자를 포함한다)\\n3. 거주자와 배우자를 포함한다. 이하 호의에 있어 같거나 생계를 같이 하는 각 목의 어느 하나에 해당하는 부양가족(제151조제1항제2호에 해당하는 경우에는 나이의 제한을 받지 아니한다)으로써 해당 거주자의 소득금액 합계액이 100만원 이하인 사람(종합소득이 500만원 이하인 부양가족을 포함한다)\\n가. 거주자의 계층(직계존속에 재혼한 경우에는 배우자로 대립동료를 정하는 사람을 포함한다)으로서 60세 이상의 사람\\n나. 거주자의 계층식으로서 대립동료를 정하는 사람과 대립동료는 정하는 50세 임인자(이하 \"임인자\" 한 다)로서 20세 이하(20세) 되는 날부터 이 조에 해당하는 경우, 이하 이 조에 해당하는 사람, 이 경우 해 당 제4비속은 임인자와 배우자로서 제150조제1항제3호에 해당하는 경우에는 그 배우자를 포함한다.\\n다. 거주자의 형제자매로서 24세 이하 또는 60세 이상인 사람\\n라. \"구민국조생활 보정법\",에 따른 수급관계 중 대립동료로서 정하는 사람.\\n마. \"가족복지법\"에 따른 가정위탁을 받을 수 있는 자로서 대립동료로서 정하는 사람(이하 \"위탁자\"라 한다)\\n제정에 따른 규제를 \"기본공적\"라 한다.\\n거주자의 배우자 또는 부양가족이 다른 거주자의 부양가족에 해당되는 경우에는 대립동료로 정하는 바에 따 립 이념은 한 거주자의 종합소득금액에 포함한다. <전문개정 2009. 12. 31.>', '20년 초과                                           1,200만원 + 120만원 × (납입연수 - 20)\\n① 직장공제 초과가입환급금을 분배하여 지급받는 경우 세액의 계산 방법 등 사항은 대통령령으로 정한다. <신설 2014. 12. 23.> <전문개정 2009. 12. 31.> \\n제64조(부동산매매임대에 대한 세액 계산의 특례) ① 대통령령으로 정하는 부동산매매임대(이하 “부동산매매임대”라 한다)를 영위하는 거주자(이하 “부동산매매자”라 한다)로서 종합소득금액에 대해 제104조제1항제1호(분양권에 해당한다) 및 제3조 제1호 또는 같은 조 제3항 각 호의 어느 하나에 해당하는 자산의 매매차익(이하 “주택등매차익”이라 한다)이 있는 자의 종합소득산출세액은 다음 각 호의 세액 중 많은 것으로 한다. <개정 2014. 12. 23., 2017. 12. 19., 2020. 12. 29.>']\n",
      "response: not hallucinated\n",
      "helpfulness: {'Score': 1, 'Explanation': \"The student's answer directly addresses the question by explaining how to calculate the income tax for a resident with an annual income of 50 million won. The answer provides a clear step-by-step explanation of the calculation: it first identifies the portion of the income that is subject to a 15% tax rate (the amount exceeding 14 million won), then calculates 15% of the remaining 36 million won, resulting in a tax amount of 5.4 million won. This answer is concise, relevant, and adequately answers the question, meeting both criteria for a score of 1.\"}\n"
     ]
    },
    {
     "data": {
      "text/plain": [
       "{'question': '연봉 5천만원 거주자의 소득세는 얼마인가요?',\n",
       " 'answer': '연봉 5천만 원 거주자의 소득세는 해당 금액 중 1,400만 원을 초과하는 부분에 대해 15%의 세율이 적용됩니다. 따라서, 5천만 원에서 1,400만 원을 뺀 3,600만 원에 대해 15%의 세금, 즉 540만 원이 산출됩니다.',\n",
       " 'context': [Document(id='176763a6-b0d9-4314-83bb-032dd06e2ff3', metadata={'source': './documents/income_tax.txt'}, page_content='<전문개정 2009. 12. 31.>  \\n제57조(세액의 기산)\\n<개정 2009. 12. 31.>  \\n제1편 시행 <전문개정 2009. 12. 31.>\\n소득세법\\n제55조(세율)\\n거주자의 종합소득에 대한 소득세는 해당 연도의 종합소득과세표준에 다음의 세율을 적용하여 계산한 금액(이하 “종합소득산출세액”이라 한다)을 그 세액으로 한다. <개정 2014. 1. 1., 2016. 12. 20., 2017. 12. 19., 2020. 12. 29., 2022. 12. 31.>\\n과세표준\\n| 과세표준     | 세  율               |\\n|-----------|------------------|\\n| 1,400만원 이하  | 각 세 표준의 6개 천분    |\\n| 1,400만원 초과 ~ 5,000만원 이하 | 15% (1,400만원을 초과하는 금액의 15%천분) |\\n| 5,000만원 초과 ~ 8,000만원 이하 | 24% (5,000만원을 초과하는 금액의 24%천분) |\\n| 8,000만원 초과 ~ 1억5천만원 이하 | 35% (8,800만원을 초과하는 금액의 35%천분) |\\n| 1억5천만원 초과 ~ 3억원 이하 | 38% (1억5천만원을 초과하는 금액의 38%천분) |\\n| 3억원 초과 ~ 5억원 이하 | 40% (3억원을 초과하는 금액의 40%천분) |\\n| 5억원 초과 | 42% (5억원을 초과하는 금액의 42%천분) |\\n② 거주자의 퇴직소득에 대한 소득세는 다음 각 호의 순서에 따라 계산한 금액(이하 “퇴직소득 산출세액”이라 한다)으로 한다. <개정 2013. 1. 1., 2014. 12. 23.>\\n1. 해당 과세기간의 퇴직소득과세표준에 제1항의 세율을 적용하여 계산한 금액\\n2. 삭제<2014. 12. 23.>\\n[전문개정 2009. 12. 31.]\\n제56조(배당소득의 정의)\\n거주자의 종합소득에 제17조제3항 각 호 외의 부분 단서가 적용되는 배당소득액이 합산되어 있는 경우에는 같은 각 호 외의 부분 단서에 따라 해당 과세기간의 총유형소득에 대한 금액을 종합소득 산출세액에 적용한다. <개정 2009. 12. 31.>\\n1. 제18조에 따른 규제를 “배당소득규제”라 한다.<개정 2009. 12. 31.>\\n2. 삭제<2008. 12. 30.>\\n3. 제1항을 적용할 때 배당소득규제에 대상이 되는 배당소득금액은 제14조제1항의 종합소득과세표준에 포함된 배당소득금액으로서 이자소득의 종합과세의금액을 초과하는 것으로 한다.<개정 2009. 12. 31.>\\n4. 삭제<2006. 12. 30.>\\n5. 배당소득규제의 계산 등에 필요한 사항은 대통령령으로 정한다.<개정 2009. 12. 31.>\\n제56조의2(기타소득의 규정)'),\n",
       "  Document(id='e24539c9-51aa-44b1-a1c2-636c1b202607', metadata={'source': './documents/income_tax.txt'}, page_content='| 환산금액         | 공 제 액       |\\n|------------------|----------------|\\n| 8백만원 이하     | 환산금여의 100퍼센트 |\\n| 8백만원 초과 7천만원 이하 | 8백만원 + (8백만원 초과분의 60퍼센트) |\\n| 7천만원 초과 1억원 이하 | 4천520만원 + (7천만원 초과분의 55퍼센트) |\\n| 1억원 초과 3억원 이하 | 6천170만원 + (1억원 초과분의 45퍼센트) |\\n| 3억원 초과       | 1억5710만원 + (3억원 초과분의 35퍼센트) |\\n② 해당 과세기간의 퇴직소득금액에 제1항제1호에 따른 공제금액에 미달하는 경우에는 그 퇴직소득액을 공제액으로 한다. <개정 2014. 12. 23.>\\n③ 제1항과 제2항에 따른 공제를 \"퇴직소득공제\"라 한다.\\n➃ 퇴직소득공제에 관한 사항은 대통령령으로 정한다.\\n⑤ 사실<2013. 1. 1.>\\n[전문개정 2009. 12. 31.]\\n제49조 삭제 <2006. 12. 30.>\\n제6관 종합소득공격 <개정 2009. 12. 31.>\\n제50조(기본공적) 다음 각 호의 어느 하나에 해당하는 사람 외 수입이 1명 당 150만원을 초과하여 계산한 금액을 그 거주자의 해당 과세기간의 종합소득금액에 포함한다. <개정 2015. 12. 15, 2024. 12. 31.>\\n1. 해다 거주자\\n2. 거주자에 배우자로서 해당 과세기간의 소득금액이 없거나 해당 과세기간에 소득금액 합계액이 100만원 이하인 사람(종합소득이 500만원 이하인 로스로소한 있는 배우자를 포함한다)\\n3. 거주자와 배우자를 포함한다. 이하 호의에 있어 같거나 생계를 같이 하는 각 목의 어느 하나에 해당하는 부양가족(제151조제1항제2호에 해당하는 경우에는 나이의 제한을 받지 아니한다)으로써 해당 거주자의 소득금액 합계액이 100만원 이하인 사람(종합소득이 500만원 이하인 부양가족을 포함한다)\\n가. 거주자의 계층(직계존속에 재혼한 경우에는 배우자로 대립동료를 정하는 사람을 포함한다)으로서 60세 이상의 사람\\n나. 거주자의 계층식으로서 대립동료를 정하는 사람과 대립동료는 정하는 50세 임인자(이하 \"임인자\" 한 다)로서 20세 이하(20세) 되는 날부터 이 조에 해당하는 경우, 이하 이 조에 해당하는 사람, 이 경우 해 당 제4비속은 임인자와 배우자로서 제150조제1항제3호에 해당하는 경우에는 그 배우자를 포함한다.\\n다. 거주자의 형제자매로서 24세 이하 또는 60세 이상인 사람\\n라. \"구민국조생활 보정법\",에 따른 수급관계 중 대립동료로서 정하는 사람.\\n마. \"가족복지법\"에 따른 가정위탁을 받을 수 있는 자로서 대립동료로서 정하는 사람(이하 \"위탁자\"라 한다)\\n제정에 따른 규제를 \"기본공적\"라 한다.\\n거주자의 배우자 또는 부양가족이 다른 거주자의 부양가족에 해당되는 경우에는 대립동료로 정하는 바에 따 립 이념은 한 거주자의 종합소득금액에 포함한다. <전문개정 2009. 12. 31.>'),\n",
       "  Document(id='c7964974-8da3-418f-9197-129ad39eaa20', metadata={'source': './documents/income_tax.txt'}, page_content='20년 초과                                           1,200만원 + 120만원 × (납입연수 - 20)\\n① 직장공제 초과가입환급금을 분배하여 지급받는 경우 세액의 계산 방법 등 사항은 대통령령으로 정한다. <신설 2014. 12. 23.> <전문개정 2009. 12. 31.> \\n제64조(부동산매매임대에 대한 세액 계산의 특례) ① 대통령령으로 정하는 부동산매매임대(이하 “부동산매매임대”라 한다)를 영위하는 거주자(이하 “부동산매매자”라 한다)로서 종합소득금액에 대해 제104조제1항제1호(분양권에 해당한다) 및 제3조 제1호 또는 같은 조 제3항 각 호의 어느 하나에 해당하는 자산의 매매차익(이하 “주택등매차익”이라 한다)이 있는 자의 종합소득산출세액은 다음 각 호의 세액 중 많은 것으로 한다. <개정 2014. 12. 23., 2017. 12. 19., 2020. 12. 29.>')]}"
      ]
     },
     "execution_count": 153,
     "metadata": {},
     "output_type": "execute_result"
    }
   ],
   "source": [
    "initial_state = {\n",
    "    \"question\": \"연봉 5천만원 거주자의 소득세는 얼마인가요?\"\n",
    "}\n",
    "\n",
    "graph.invoke(initial_state)"
   ]
  },
  {
   "cell_type": "code",
   "execution_count": null,
   "id": "7733c9b7",
   "metadata": {},
   "outputs": [],
   "source": []
  }
 ],
 "metadata": {
  "kernelspec": {
   "display_name": ".venv",
   "language": "python",
   "name": "python3"
  },
  "language_info": {
   "codemirror_mode": {
    "name": "ipython",
    "version": 3
   },
   "file_extension": ".py",
   "mimetype": "text/x-python",
   "name": "python",
   "nbconvert_exporter": "python",
   "pygments_lexer": "ipython3",
   "version": "3.13.7"
  }
 },
 "nbformat": 4,
 "nbformat_minor": 5
}
