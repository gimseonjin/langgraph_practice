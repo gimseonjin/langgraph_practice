{
 "cells": [
  {
   "cell_type": "code",
   "execution_count": 2,
   "id": "c131f1a2",
   "metadata": {},
   "outputs": [
    {
     "name": "stdout",
     "output_type": "stream",
     "text": [
      "\u001b[2mAudited \u001b[1m1 package\u001b[0m \u001b[2min 22ms\u001b[0m\u001b[0m\n"
     ]
    }
   ],
   "source": [
    "!uv pip install langchain"
   ]
  },
  {
   "cell_type": "code",
   "execution_count": 3,
   "id": "2d82d6a9",
   "metadata": {},
   "outputs": [
    {
     "name": "stdout",
     "output_type": "stream",
     "text": [
      "\u001b[2K\u001b[2mResolved \u001b[1m121 packages\u001b[0m \u001b[2min 174ms\u001b[0m\u001b[0m                                       \u001b[0m\n",
      "\u001b[2mAudited \u001b[1m121 packages\u001b[0m \u001b[2min 1ms\u001b[0m\u001b[0m\n"
     ]
    }
   ],
   "source": [
    "!uv pip install --upgrade langchain langchain-core langchain-openai langchain-community langchain-chroma langgraph"
   ]
  },
  {
   "cell_type": "code",
   "execution_count": 4,
   "id": "e071165f",
   "metadata": {},
   "outputs": [],
   "source": [
    "from langchain_chroma import Chroma\n",
    "from langchain_openai import OpenAIEmbeddings\n",
    "\n",
    "embeddings = OpenAIEmbeddings(model=\"text-embedding-3-large\")\n",
    "\n",
    "vector_store = Chroma(\n",
    "    collection_name=\"income_tax_collection\",\n",
    "    persist_directory=\"./income_tax_collection\",\n",
    "    embedding_function=embeddings\n",
    ")\n",
    "\n",
    "retriver = vector_store.as_retriever(search_kwargs={\"k\": 3})"
   ]
  },
  {
   "cell_type": "code",
   "execution_count": 5,
   "id": "ecbbea10",
   "metadata": {},
   "outputs": [],
   "source": [
    "from typing_extensions import List, TypedDict\n",
    "from langchain_core.documents import Document\n",
    "\n",
    "class AgentState(TypedDict):\n",
    "    question: str\n",
    "    answer: str\n",
    "    context: List[Document]"
   ]
  },
  {
   "cell_type": "code",
   "execution_count": 6,
   "id": "27c9c143",
   "metadata": {},
   "outputs": [],
   "source": [
    "from langgraph.graph import StateGraph\n",
    "\n",
    "graph_builder = StateGraph(AgentState)"
   ]
  },
  {
   "cell_type": "code",
   "execution_count": 7,
   "id": "ac49a01d",
   "metadata": {},
   "outputs": [],
   "source": [
    "def retrive(state: AgentState) -> AgentState:\n",
    "    question = state[\"question\"]\n",
    "    docs = retriver.invoke(question)\n",
    "    return {\"context\": docs}"
   ]
  },
  {
   "cell_type": "code",
   "execution_count": 8,
   "id": "16127417",
   "metadata": {},
   "outputs": [],
   "source": [
    "from langchain_openai import ChatOpenAI\n",
    "\n",
    "llm = ChatOpenAI(model=\"gpt-4o\")"
   ]
  },
  {
   "cell_type": "code",
   "execution_count": 9,
   "id": "f3d4e481",
   "metadata": {},
   "outputs": [],
   "source": [
    "from langchain_classic import hub\n",
    "\n",
    "generate_prompt = hub.pull(\"rlm/rag-prompt\")"
   ]
  },
  {
   "cell_type": "code",
   "execution_count": 10,
   "id": "0ef73e2a",
   "metadata": {},
   "outputs": [],
   "source": [
    "def generate(state: AgentState) -> AgentState:\n",
    "    content = state[\"context\"]\n",
    "    question = state[\"question\"]\n",
    "    rag_chain = generate_prompt | llm\n",
    "    answer = rag_chain.invoke({\"context\": content, \"question\": question})\n",
    "    return {\"answer\": answer}"
   ]
  },
  {
   "cell_type": "code",
   "execution_count": null,
   "id": "bf11a1da",
   "metadata": {},
   "outputs": [],
   "source": [
    "from langchain_classic import hub\n",
    "from typing import Literal\n",
    "\n",
    "doc_relevance_prompt = hub.pull(\"langchain-ai/rag-document-relevance\")\n",
    "\n",
    "def relevance_doc(state: AgentState) -> Literal['generate', 'rewrite']:\n",
    "    question = state[\"question\"]\n",
    "    context = state[\"context\"]\n",
    "    doc_relevance_chain = doc_relevance_prompt | llm\n",
    "    relevance = doc_relevance_chain.invoke({\"question\": question, \"documents\": context})\n",
    "    print(f\"context: {context}\")\n",
    "    print(f\"relevance: {relevance}\")\n",
    "    if relevance['Score'] == 1:\n",
    "        return 'generate'\n",
    "    \n",
    "    return 'rewrite'\n"
   ]
  },
  {
   "cell_type": "code",
   "execution_count": 12,
   "id": "004d561e",
   "metadata": {},
   "outputs": [],
   "source": [
    "from langchain_core.prompts import PromptTemplate\n",
    "from langchain_core.output_parsers import StrOutputParser\n",
    "dictionary = [\"사람과 관련된 표현 -> 거주자\"]\n",
    "\n",
    "rewrite_prompt = PromptTemplate.from_template(f\"\"\"\n",
    "사용자의 질문을 보고, 우리의 사전을 참고해서 사용자의 질문을 변경해주세요\n",
    "사전: {dictionary}\n",
    "질문: {{question}}\n",
    "\"\"\")\n",
    "\n",
    "def rewrite(state: AgentState):\n",
    "    question = state[\"question\"]\n",
    "    rewrite_chain = rewrite_prompt | llm | StrOutputParser()\n",
    "    rewritten_question = rewrite_chain.invoke({\"question\": question})\n",
    "    return {\"question\": rewritten_question}"
   ]
  },
  {
   "cell_type": "code",
   "execution_count": 13,
   "id": "be0af39d",
   "metadata": {},
   "outputs": [
    {
     "data": {
      "text/plain": [
       "<langgraph.graph.state.StateGraph at 0x1257c12b0>"
      ]
     },
     "execution_count": 13,
     "metadata": {},
     "output_type": "execute_result"
    }
   ],
   "source": [
    "graph_builder.add_node(\"retrive\", retrive)\n",
    "graph_builder.add_node(\"generate\", generate)\n",
    "graph_builder.add_node(\"rewrite\", rewrite)"
   ]
  },
  {
   "cell_type": "code",
   "execution_count": 14,
   "id": "557643b4",
   "metadata": {},
   "outputs": [
    {
     "data": {
      "text/plain": [
       "<langgraph.graph.state.StateGraph at 0x1257c12b0>"
      ]
     },
     "execution_count": 14,
     "metadata": {},
     "output_type": "execute_result"
    }
   ],
   "source": [
    "from langgraph.graph import START, END\n",
    "\n",
    "graph_builder.add_edge(START, \"retrive\")\n",
    "graph_builder.add_conditional_edges(\"retrive\", relevance_doc)\n",
    "graph_builder.add_edge(\"rewrite\", \"retrive\")\n",
    "graph_builder.add_edge(\"generate\", END)"
   ]
  },
  {
   "cell_type": "code",
   "execution_count": 15,
   "id": "6f7b1a15",
   "metadata": {},
   "outputs": [],
   "source": [
    "graph = graph_builder.compile()"
   ]
  },
  {
   "cell_type": "code",
   "execution_count": 16,
   "id": "cc50e685",
   "metadata": {},
   "outputs": [
    {
     "data": {
      "image/png": "[encoded data removed]",
      "text/plain": [
       "<IPython.core.display.Image object>"
      ]
     },
     "metadata": {},
     "output_type": "display_data"
    }
   ],
   "source": [
    "from IPython.display import Image, display\n",
    "\n",
    "display(Image(graph.get_graph().draw_mermaid_png()))"
   ]
  },
  {
   "cell_type": "code",
   "execution_count": 18,
   "id": "e72d577a",
   "metadata": {},
   "outputs": [
    {
     "name": "stdout",
     "output_type": "stream",
     "text": [
      "relevance: {'Score': 1, 'Explanation': 'The question asks about taxes on an annual salary of 50 million won (연봉 5천만원 세금). The provided facts relate to various income tax regulations in South Korea, including virtual asset income tax, real estate transaction income, and retirement income deductions. Although the details are not directly answering the specific question about the tax on a 50 million won salary, they contain relevant keywords and concepts related to income tax calculation, taxable income thresholds, and deductions, which are relevant to the context of tax calculations. Therefore, the provided facts are semantically related to the question, earning a score of 1.'}\n"
     ]
    },
    {
     "data": {
      "text/plain": [
       "{'question': '연봉 5천만원 세금',\n",
       " 'answer': AIMessage(content=\"I don't know.\", additional_kwargs={'refusal': None}, response_metadata={'token_usage': {'completion_tokens': 4, 'prompt_tokens': 1507, 'total_tokens': 1511, 'completion_tokens_details': {'accepted_prediction_tokens': 0, 'audio_tokens': 0, 'reasoning_tokens': 0, 'rejected_prediction_tokens': 0}, 'prompt_tokens_details': {'audio_tokens': 0, 'cached_tokens': 0}}, 'model_provider': 'openai', 'model_name': 'gpt-4o-2024-08-06', 'system_fingerprint': 'fp_159664a9b7', 'id': 'chatcmpl-CT9paouTcqLwZsFuY6gvsCcATYAOn', 'service_tier': 'default', 'finish_reason': 'stop', 'logprobs': None}, id='lc_run--f7645beb-03bc-4ef3-84d3-99dc191e9254-0', usage_metadata={'input_tokens': 1507, 'output_tokens': 4, 'total_tokens': 1511, 'input_token_details': {'audio': 0, 'cache_read': 0}, 'output_token_details': {'audio': 0, 'reasoning': 0}}),\n",
       " 'context': [Document(id='fbd8c829-5f7e-49dc-8e40-a4ccca74bf15', metadata={'source': './documents/income_tax.txt'}, page_content='해당 사업자의 가상자산소득세액이 250만원 이하인 경우\\n그 밖의 기타소득금액(제21조제1항제2호 기타소득금액은 제외한다)이 건별로 5만원 이하인 경우\\n[전문개정 2009. 12. 31.]\\n[시행일: 2027. 1. 1.] 제84조제3호, 제84조제4호'),\n",
       "  Document(id='c7964974-8da3-418f-9197-129ad39eaa20', metadata={'source': './documents/income_tax.txt'}, page_content='20년 초과                                           1,200만원 + 120만원 × (납입연수 - 20)\\n① 직장공제 초과가입환급금을 분배하여 지급받는 경우 세액의 계산 방법 등 사항은 대통령령으로 정한다. <신설 2014. 12. 23.> <전문개정 2009. 12. 31.> \\n제64조(부동산매매임대에 대한 세액 계산의 특례) ① 대통령령으로 정하는 부동산매매임대(이하 “부동산매매임대”라 한다)를 영위하는 거주자(이하 “부동산매매자”라 한다)로서 종합소득금액에 대해 제104조제1항제1호(분양권에 해당한다) 및 제3조 제1호 또는 같은 조 제3항 각 호의 어느 하나에 해당하는 자산의 매매차익(이하 “주택등매차익”이라 한다)이 있는 자의 종합소득산출세액은 다음 각 호의 세액 중 많은 것으로 한다. <개정 2014. 12. 23., 2017. 12. 19., 2020. 12. 29.>'),\n",
       "  Document(id='e24539c9-51aa-44b1-a1c2-636c1b202607', metadata={'source': './documents/income_tax.txt'}, page_content='| 환산금액         | 공 제 액       |\\n|------------------|----------------|\\n| 8백만원 이하     | 환산금여의 100퍼센트 |\\n| 8백만원 초과 7천만원 이하 | 8백만원 + (8백만원 초과분의 60퍼센트) |\\n| 7천만원 초과 1억원 이하 | 4천520만원 + (7천만원 초과분의 55퍼센트) |\\n| 1억원 초과 3억원 이하 | 6천170만원 + (1억원 초과분의 45퍼센트) |\\n| 3억원 초과       | 1억5710만원 + (3억원 초과분의 35퍼센트) |\\n② 해당 과세기간의 퇴직소득금액에 제1항제1호에 따른 공제금액에 미달하는 경우에는 그 퇴직소득액을 공제액으로 한다. <개정 2014. 12. 23.>\\n③ 제1항과 제2항에 따른 공제를 \"퇴직소득공제\"라 한다.\\n➃ 퇴직소득공제에 관한 사항은 대통령령으로 정한다.\\n⑤ 사실<2013. 1. 1.>\\n[전문개정 2009. 12. 31.]\\n제49조 삭제 <2006. 12. 30.>\\n제6관 종합소득공격 <개정 2009. 12. 31.>\\n제50조(기본공적) 다음 각 호의 어느 하나에 해당하는 사람 외 수입이 1명 당 150만원을 초과하여 계산한 금액을 그 거주자의 해당 과세기간의 종합소득금액에 포함한다. <개정 2015. 12. 15, 2024. 12. 31.>\\n1. 해다 거주자\\n2. 거주자에 배우자로서 해당 과세기간의 소득금액이 없거나 해당 과세기간에 소득금액 합계액이 100만원 이하인 사람(종합소득이 500만원 이하인 로스로소한 있는 배우자를 포함한다)\\n3. 거주자와 배우자를 포함한다. 이하 호의에 있어 같거나 생계를 같이 하는 각 목의 어느 하나에 해당하는 부양가족(제151조제1항제2호에 해당하는 경우에는 나이의 제한을 받지 아니한다)으로써 해당 거주자의 소득금액 합계액이 100만원 이하인 사람(종합소득이 500만원 이하인 부양가족을 포함한다)\\n가. 거주자의 계층(직계존속에 재혼한 경우에는 배우자로 대립동료를 정하는 사람을 포함한다)으로서 60세 이상의 사람\\n나. 거주자의 계층식으로서 대립동료를 정하는 사람과 대립동료는 정하는 50세 임인자(이하 \"임인자\" 한 다)로서 20세 이하(20세) 되는 날부터 이 조에 해당하는 경우, 이하 이 조에 해당하는 사람, 이 경우 해 당 제4비속은 임인자와 배우자로서 제150조제1항제3호에 해당하는 경우에는 그 배우자를 포함한다.\\n다. 거주자의 형제자매로서 24세 이하 또는 60세 이상인 사람\\n라. \"구민국조생활 보정법\",에 따른 수급관계 중 대립동료로서 정하는 사람.\\n마. \"가족복지법\"에 따른 가정위탁을 받을 수 있는 자로서 대립동료로서 정하는 사람(이하 \"위탁자\"라 한다)\\n제정에 따른 규제를 \"기본공적\"라 한다.\\n거주자의 배우자 또는 부양가족이 다른 거주자의 부양가족에 해당되는 경우에는 대립동료로 정하는 바에 따 립 이념은 한 거주자의 종합소득금액에 포함한다. <전문개정 2009. 12. 31.>')]}"
      ]
     },
     "execution_count": 18,
     "metadata": {},
     "output_type": "execute_result"
    }
   ],
   "source": [
    "inital_state = { 'question': '연봉 5천만원 세금' }\n",
    "graph.invoke(inital_state)"
   ]
  },
  {
   "cell_type": "code",
   "execution_count": null,
   "id": "bd88dbba",
   "metadata": {},
   "outputs": [],
   "source": []
  }
 ],
 "metadata": {
  "kernelspec": {
   "display_name": ".venv",
   "language": "python",
   "name": "python3"
  },
  "language_info": {
   "codemirror_mode": {
    "name": "ipython",
    "version": 3
   },
   "file_extension": ".py",
   "mimetype": "text/x-python",
   "name": "python",
   "nbconvert_exporter": "python",
   "pygments_lexer": "ipython3",
   "version": "3.13.7"
  }
 },
 "nbformat": 4,
 "nbformat_minor": 5
}
