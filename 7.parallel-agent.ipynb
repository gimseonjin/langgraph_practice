{
 "cells": [
  {
   "cell_type": "code",
   "execution_count": 68,
   "id": "b656ef5d",
   "metadata": {},
   "outputs": [
    {
     "data": {
      "text/plain": [
       "True"
      ]
     },
     "execution_count": 68,
     "metadata": {},
     "output_type": "execute_result"
    }
   ],
   "source": [
    "from dotenv import load_dotenv\n",
    "\n",
    "load_dotenv()"
   ]
  },
  {
   "cell_type": "code",
   "execution_count": 69,
   "id": "9795ddbe",
   "metadata": {},
   "outputs": [],
   "source": [
    "from typing import TypedDict\n",
    "\n",
    "\n",
    "class AgentState(TypedDict):\n",
    "    question: str\n",
    "    answer: str\n",
    "    tax_base_equation: str # 과세표준 계산 수식\n",
    "    tax_deduction: str # 공제액\n",
    "    market_ratio: str # 공정시장가액비율\n",
    "    tax_base: str # 과세표준 계산"
   ]
  },
  {
   "cell_type": "code",
   "execution_count": 70,
   "id": "c46ac087",
   "metadata": {},
   "outputs": [],
   "source": [
    "from langgraph.graph import StateGraph\n",
    "\n",
    "graph_builder = StateGraph(AgentState)"
   ]
  },
  {
   "cell_type": "code",
   "execution_count": 71,
   "id": "fc61eef5",
   "metadata": {},
   "outputs": [],
   "source": [
    "# vector store 생성\n",
    "from langchain_chroma import Chroma\n",
    "from langchain_openai import OpenAIEmbeddings\n",
    "\n",
    "embeddings = OpenAIEmbeddings(model=\"text-embedding-3-large\")\n",
    "\n",
    "vector_store = Chroma(\n",
    "    collection_name=\"real_estate_tax\",\n",
    "    persist_directory=\"./real_estate_tax_collection\",\n",
    "    embedding_function=embeddings\n",
    ")\n",
    "\n",
    "retriver = vector_store.as_retriever(search_kwargs={\"k\": 3})"
   ]
  },
  {
   "cell_type": "code",
   "execution_count": 72,
   "id": "836b5f2c",
   "metadata": {},
   "outputs": [],
   "source": [
    "question = '5억짜리 집 1채, 10억짜리 집 1채, 20억짜리 집 1채를 가지고 있을 때 세금을 얼마나 내나요?'"
   ]
  },
  {
   "cell_type": "code",
   "execution_count": 73,
   "id": "fc0e9309",
   "metadata": {},
   "outputs": [],
   "source": [
    "# llm 설정\n",
    "from langchain_openai import ChatOpenAI\n",
    "from langchain_classic import hub\n",
    "from langchain_core.output_parsers import StrOutputParser\n",
    "from langchain_core.runnables import RunnablePassthrough\n",
    "from langchain_core.prompts import ChatPromptTemplate\n",
    "\n",
    "rag_prompt = hub.pull(\"rlm/rag-prompt\")\n",
    "\n",
    "llm = ChatOpenAI(model=\"gpt-4o\")\n",
    "mini_llm = ChatOpenAI(model=\"gpt-4o-mini\")"
   ]
  },
  {
   "cell_type": "code",
   "execution_count": null,
   "id": "c437f6c4",
   "metadata": {},
   "outputs": [],
   "source": [
    "\n",
    "tax_base_equation_prompt = ChatPromptTemplate.from_messages([\n",
    "    (\"system\", \"사용자의 질문에서 과세표준을 계산하는 방법을 수식으로 표현해서 알려주세요.  부연 설명 없이 수식만 리턴해주세요\"),\n",
    "    (\"human\", \"{tax_base_equation}\")\n",
    "])\n",
    "\n",
    "tax_base_retrieval_chain = (\n",
    "    {\"context\": retriver, \"question\": RunnablePassthrough()} \n",
    "    | rag_prompt \n",
    "    | llm \n",
    "    | StrOutputParser()\n",
    ")\n",
    "\n",
    "tax_base_equation_chain = (\n",
    "    {\"tax_base_equation\": RunnablePassthrough()} \n",
    "    | tax_base_equation_prompt \n",
    "    | llm \n",
    "    | StrOutputParser()\n",
    ")\n",
    "\n",
    "tax_base_chain = { \"tax_base_equation\" : tax_base_retrieval_chain } | tax_base_equation_chain\n",
    "\n",
    "def get_tax_base_equation(state: AgentState) -> str:\n",
    "    question = \"주택에 대한 종합부동산세 계산시 과세표준을 계산하는 방법을 수식으로 표현해서 알려주세요.\"\n",
    "    tax_base_equation = tax_base_chain.invoke(question)\n",
    "\n",
    "    print(f\"tax_base_equation: {tax_base_equation}\")\n",
    "    return {\"tax_base_equation\": tax_base_equation}\n",
    "\n"
   ]
  },
  {
   "cell_type": "code",
   "execution_count": 75,
   "id": "b21afeef",
   "metadata": {},
   "outputs": [],
   "source": [
    "# get_tax_base_equation({})\n",
    "\n",
    "# {'tax_base_equation': '과세표준 = (Σ(주택 공시가격) - 공제금액) × 공정시장가액비율'}"
   ]
  },
  {
   "cell_type": "code",
   "execution_count": null,
   "id": "24c42125",
   "metadata": {},
   "outputs": [],
   "source": [
    "tax_deduction_retrieval_chain = (\n",
    "    {\"context\": retriver, \"question\": RunnablePassthrough()} \n",
    "    | rag_prompt \n",
    "    | llm \n",
    "    | StrOutputParser()\n",
    ")\n",
    "\n",
    "def get_tax_deduction(state: AgentState) -> str:\n",
    "    question = \"주택에 대한 종합부동산세 계산시 공제금액을 알려주세요.\"\n",
    "    tax_deduction = tax_deduction_retrieval_chain.invoke(question)\n",
    "\n",
    "    print(f\"tax_deduction: {tax_deduction}\")\n",
    "    return {\"tax_deduction\": tax_deduction}"
   ]
  },
  {
   "cell_type": "code",
   "execution_count": 77,
   "id": "9ef31a1d",
   "metadata": {},
   "outputs": [],
   "source": [
    "# get_tax_deduction({})"
   ]
  },
  {
   "cell_type": "code",
   "execution_count": 78,
   "id": "1c9ee9ae",
   "metadata": {},
   "outputs": [],
   "source": [
    "from langchain_community.tools import TavilySearchResults\n",
    "from datetime import date\n",
    "\n",
    "tavliy_search_tool = TavilySearchResults(\n",
    "    max_results=8,\n",
    "    search_depth=\"advanced\",\n",
    "    include_answer=True,\n",
    "    include_raw_content=True,\n",
    "    include_images=True,\n",
    ")\n",
    "\n",
    "tax_market_ratio_prompt = ChatPromptTemplate.from_messages([\n",
    "    (\"system\", \"아래 정보를 기반으로 공정시장 가액비율을 계산해주세요\\n\\nContext: {context}\"),\n",
    "    (\"human\", \"{question}\")\n",
    "])\n",
    "\n",
    "tax_market_ratio_chain = tax_market_ratio_prompt | llm | StrOutputParser()\n",
    "\n",
    "def get_tax_market_ratio(state: AgentState) :\n",
    "    question = f'오늘 날짜 ({date.today()})에 해당하는 주택 공시가격 공정시장가액비율은 몇%인가요?'\n",
    "    search_tool = tavliy_search_tool.as_tool()\n",
    "    context = search_tool.invoke({\"query\": question})\n",
    "    market_ratio = tax_market_ratio_chain.invoke({\"context\": context, \"question\": question})\n",
    "\n",
    "    print(f\"market_ratio: {market_ratio}\")\n",
    "    return {\"market_ratio\": market_ratio}\n"
   ]
  },
  {
   "cell_type": "code",
   "execution_count": 79,
   "id": "69df7ba8",
   "metadata": {},
   "outputs": [],
   "source": [
    "# get_tax_market_ratio({})"
   ]
  },
  {
   "cell_type": "code",
   "execution_count": 80,
   "id": "89797e5d",
   "metadata": {},
   "outputs": [],
   "source": [
    "tax_base_calculation_prompt = ChatPromptTemplate.from_messages([\n",
    "    (\"system\", \"\"\"주어진 내용을 기반으로 과세표준을 계산해주세요\n",
    "\n",
    "과세표준 계산 수식: {tax_base_equation}\n",
    "공제금액: {tax_deduction}\n",
    "공정시장가액비율: {market_ratio}\"\"\"),\n",
    "    (\"human\", \"사용자의 주택 공시가격 정보: {question}\")\n",
    "])\n",
    "\n",
    "def calculate_tax(state: AgentState) :\n",
    "    tax_base_equation = state[\"tax_base_equation\"]\n",
    "    tax_deduction = state[\"tax_deduction\"]\n",
    "    market_ratio = state[\"market_ratio\"]\n",
    "    question = state[\"question\"]\n",
    "\n",
    "    tax_base_calculation_chain = (\n",
    "        tax_base_calculation_prompt \n",
    "        | llm \n",
    "        | StrOutputParser()\n",
    "    )\n",
    "    tax_base = tax_base_calculation_chain.invoke({\n",
    "        \"tax_base_equation\": tax_base_equation,\n",
    "        \"tax_deduction\": tax_deduction,\n",
    "        \"market_ratio\": market_ratio,\n",
    "        \"question\": question\n",
    "    })\n",
    "\n",
    "    print(f\"tax_base: {tax_base}\")\n",
    "    return {\"tax_base\": tax_base}\n",
    "    "
   ]
  },
  {
   "cell_type": "code",
   "execution_count": 81,
   "id": "d8467620",
   "metadata": {},
   "outputs": [],
   "source": [
    "initial_state = {\n",
    "    'tax_base_equation': '과세표준 = (Σ(주택 공시가격) - 공제금액) × 공정시장가액비율',\n",
    "    'market_ratio': '2025년 주택 공시가격 공정시장가액비율은 1주택자의 경우 공시가격 구간에 따라 43%에서 45%까지 적용되고, 다주택자나 법인의 경우에는 60%가 적용됩니다.',\n",
    "    'tax_deduction': '주택에 대한 종합부동산세 계산 시 공제금액은 1세대 1주택자는 12억 원, 그 외의 경우는 9억 원입니다.',\n",
    "    'question': '5억짜리 집 1채, 10억짜리 집 1채, 20억짜리 집 1채를 가지고 있을 때 세금을 얼마나 내나요?'\n",
    "}"
   ]
  },
  {
   "cell_type": "code",
   "execution_count": 82,
   "id": "e907d5c5",
   "metadata": {},
   "outputs": [],
   "source": [
    "# calculate_tax(initial_state)"
   ]
  },
  {
   "cell_type": "code",
   "execution_count": 83,
   "id": "c9d396d8",
   "metadata": {},
   "outputs": [],
   "source": [
    "tax_rate_calculation_prompt = ChatPromptTemplate.from_messages([\n",
    "    (\"system\", \"당신은 종합 부동산세 계산 전문가입니다. 아래 문서를 참고해서 사용자의 질문에 대한 종합부동산세를 계산해주세요 \\n\\n 종합부동산세 세율: {context}\"),\n",
    "    (\"human\", \"\"\"과세표준과 사용자가 소지한 주택수가 아래와 같을 때 종합부동산세를 계산해주세요\n",
    "    과세표준: {tax_base}\n",
    "    사용자의 주택 수: {question}\"\"\")\n",
    "])\n",
    "\n",
    "tax_rate_calculation_chain = tax_rate_calculation_prompt | llm | StrOutputParser()\n",
    "\n",
    "def calculate_tax_rate(state: AgentState) :\n",
    "    question = state[\"question\"]\n",
    "    tax_base = state[\"tax_base\"]\n",
    "    context = retriver.invoke(question)\n",
    "    tax_rate = tax_rate_calculation_chain.invoke({\n",
    "        \"context\": context,\n",
    "        \"question\": question,\n",
    "        \"tax_base\": tax_base\n",
    "    })\n",
    "\n",
    "    print(f\"answer: {tax_rate}\")\n",
    "    return {\"answer\": tax_rate}\n"
   ]
  },
  {
   "cell_type": "code",
   "execution_count": null,
   "id": "4b07e65e",
   "metadata": {},
   "outputs": [
    {
     "name": "stdout",
     "output_type": "stream",
     "text": [
      "answer: 주어진 정보를 바탕으로 사용자는 3주택을 소유하고 있으며, 과세표준은 15.6억 원으로 계산되었습니다. 이제, 3주택 이상 소유자의 종합부동산세 세율을 적용하여 세금을 계산해보겠습니다.\n",
      "\n",
      "1. 과세표준: 15.6억 원\n",
      "\n",
      "2. 3주택 이상 소유자의 세율에 따라 과세표준에 해당하는 구간 확인:\n",
      "   - 12억 원 초과 25억 원 이하 구간에 해당됩니다.\n",
      "\n",
      "3. 해당 구간의 세율:\n",
      "   - 기본 세액: 960만 원\n",
      "   - 초과분에 대한 세율: 12억 원을 초과하는 금액의 1천분의 20\n",
      "\n",
      "4. 세금 계산:\n",
      "   - 초과분: 15.6억 원 - 12억 원 = 3.6억 원\n",
      "   - 초과분에 대한 세액: 3.6억 원 × 0.002 = 720만 원\n",
      "   - 최종 세액: 960만 원 + 720만 원 = 1,680만 원\n",
      "\n",
      "따라서, 사용자가 내야 할 종합부동산세는 1,680만 원입니다.\n"
     ]
    },
    {
     "data": {
      "text/plain": [
       "{'answer': '주어진 정보를 바탕으로 사용자는 3주택을 소유하고 있으며, 과세표준은 15.6억 원으로 계산되었습니다. 이제, 3주택 이상 소유자의 종합부동산세 세율을 적용하여 세금을 계산해보겠습니다.\\n\\n1. 과세표준: 15.6억 원\\n\\n2. 3주택 이상 소유자의 세율에 따라 과세표준에 해당하는 구간 확인:\\n   - 12억 원 초과 25억 원 이하 구간에 해당됩니다.\\n\\n3. 해당 구간의 세율:\\n   - 기본 세액: 960만 원\\n   - 초과분에 대한 세율: 12억 원을 초과하는 금액의 1천분의 20\\n\\n4. 세금 계산:\\n   - 초과분: 15.6억 원 - 12억 원 = 3.6억 원\\n   - 초과분에 대한 세액: 3.6억 원 × 0.002 = 720만 원\\n   - 최종 세액: 960만 원 + 720만 원 = 1,680만 원\\n\\n따라서, 사용자가 내야 할 종합부동산세는 1,680만 원입니다.'}"
      ]
     },
     "execution_count": 84,
     "metadata": {},
     "output_type": "execute_result"
    }
   ],
   "source": [
    "# calculate_tax_rate({\n",
    "#     'tax_base': '주어진 정보를 바탕으로 사용자의 경우 다주택자이므로 해당 조건에 맞춰 과세표준을 계산해보겠습니다.\\n\\n1. 주택 공시가격의 합계:\\n   - 5억 원 + 10억 원 + 20억 원 = 35억 원\\n\\n2. 공제금액:\\n   - 다주택자의 경우 공제금액은 9억 원입니다.\\n\\n3. 공정시장가액비율:\\n   - 다주택자의 경우 60%가 적용됩니다.\\n\\n과세표준 계산:\\n\\\\( \\\\text{과세표준} = (\\\\Sigma \\\\text{주택 공시가격} - \\\\text{공제금액}) \\\\times \\\\text{공정시장가액비율} \\\\)\\n\\n\\\\( \\\\text{과세표준} = (35억 원 - 9억 원) \\\\times 0.60 \\\\)\\n\\n\\\\( \\\\text{과세표준} = 26억 원 \\\\times 0.60 \\\\)\\n\\n\\\\( \\\\text{과세표준} = 15.6억 원 \\\\)\\n\\n따라서, 과세표준은 15.6억 원입니다. 이 과세표준을 바탕으로 종합부동산세를 계산하게 됩니다. 다만, 정확한 세금 금액은 세율 및 기타 세부적인 계산식에 따라 달라질 수 있습니다.',\n",
    "#     'question': question\n",
    "# })"
   ]
  },
  {
   "cell_type": "code",
   "execution_count": 85,
   "id": "4d8a670e",
   "metadata": {},
   "outputs": [
    {
     "data": {
      "text/plain": [
       "<langgraph.graph.state.StateGraph at 0x12f4a16d0>"
      ]
     },
     "execution_count": 85,
     "metadata": {},
     "output_type": "execute_result"
    }
   ],
   "source": [
    "graph_builder.add_node(\"get_tax_base_equation\", get_tax_base_equation)\n",
    "graph_builder.add_node(\"get_tax_deduction\", get_tax_deduction)\n",
    "graph_builder.add_node(\"get_tax_market_ratio\", get_tax_market_ratio)\n",
    "graph_builder.add_node(\"calculate_tax\", calculate_tax)\n",
    "graph_builder.add_node(\"calculate_tax_rate\", calculate_tax_rate)"
   ]
  },
  {
   "cell_type": "code",
   "execution_count": 86,
   "id": "2ee587a5",
   "metadata": {},
   "outputs": [
    {
     "data": {
      "text/plain": [
       "<langgraph.graph.state.StateGraph at 0x12f4a16d0>"
      ]
     },
     "execution_count": 86,
     "metadata": {},
     "output_type": "execute_result"
    }
   ],
   "source": [
    "from langgraph.graph import START, END\n",
    "\n",
    "graph_builder.add_edge(START, \"get_tax_base_equation\")\n",
    "graph_builder.add_edge(START, \"get_tax_deduction\")\n",
    "graph_builder.add_edge(START, \"get_tax_market_ratio\")\n",
    "\n",
    "\n",
    "graph_builder.add_edge(\"get_tax_base_equation\", \"calculate_tax\")\n",
    "graph_builder.add_edge(\"get_tax_deduction\", \"calculate_tax\")\n",
    "graph_builder.add_edge(\"get_tax_market_ratio\", \"calculate_tax\")\n",
    "\n",
    "graph_builder.add_edge(\"calculate_tax\", \"calculate_tax_rate\")\n",
    "graph_builder.add_edge(\"calculate_tax_rate\", END)"
   ]
  },
  {
   "cell_type": "code",
   "execution_count": 87,
   "id": "4344ecb3",
   "metadata": {},
   "outputs": [],
   "source": [
    "graph = graph_builder.compile()"
   ]
  },
  {
   "cell_type": "code",
   "execution_count": 88,
   "id": "be1e8bce",
   "metadata": {},
   "outputs": [
    {
     "data": {
      "image/png": "[encoded data removed]",
      "text/plain": [
       "<IPython.core.display.Image object>"
      ]
     },
     "metadata": {},
     "output_type": "display_data"
    }
   ],
   "source": [
    "from IPython.display import Image, display\n",
    "\n",
    "display(Image(graph.get_graph().draw_mermaid_png()))"
   ]
  },
  {
   "cell_type": "code",
   "execution_count": 89,
   "id": "28c544e4",
   "metadata": {},
   "outputs": [],
   "source": [
    "initial_state = {\n",
    "    'question': question\n",
    "}"
   ]
  },
  {
   "cell_type": "code",
   "execution_count": 90,
   "id": "85bee68f",
   "metadata": {},
   "outputs": [
    {
     "name": "stdout",
     "output_type": "stream",
     "text": [
      "market_ratio: 2025년의 주택 공시가격 공정시장가액비율은 1주택자의 경우, 3억 이하 43%, 3억 초과 6억 이하는 44%, 6억 초과는 45%로 적용됩니다. 다주택자나 법인의 경우 기본 비율 60%가 적용됩니다.\n",
      "tax_base: 사용자의 주택 공시가격 합산금액은 5억 + 10억 + 20억 = 35억 원입니다.\n",
      "\n",
      "이 경우, 사용자는 다주택자로 간주되며, 공제금액으로 9억 원이 적용됩니다.\n",
      "\n",
      "따라서 과세표준은 다음과 같이 계산됩니다:\n",
      "\n",
      "과세표준 = (공시가격 합산금액 - 공제금액) × 공정시장가액비율\n",
      "          = (35억 - 9억) × 60%\n",
      "          = 26억 × 0.60\n",
      "          = 15.6억 원\n",
      "\n",
      "과세표준은 15.6억 원입니다. 이 금액을 기준으로 종합부동산세를 계산하게 됩니다. 종합부동산세율을 알면, 세금 금액을 구할 수 있습니다. 그러나 주어진 정보만으로는 세율은 알 수 없습니다. 기본적인 과세 표준만 계산된 상태입니다.\n",
      "answer: 사용자는 3주택 이상을 소유한 경우에 해당합니다. 주어진 정보에 따라 과세 표준은 15.6억 원입니다. 이에 따라 세율을 적용하여 종합부동산세를 계산할 수 있습니다.\n",
      "\n",
      "3주택 이상 소유자의 경우 과세표준에 따른 세율은 다음과 같습니다:\n",
      "\n",
      "- 12억 원 초과 25억 원 이하: 960만 원 + (12억 원을 초과하는 금액의 1천분의 20)\n",
      "\n",
      "주어진 과세 표준은 15.6억 원이므로, 12억 원을 초과하는 금액은 3.6억 원입니다.\n",
      "\n",
      "따라서:\n",
      "- 초과 금액에 대한 세액: 3.6억 원 × 0.002 = 720만 원\n",
      "- 총 세금: 960만 원 + 720만 원 = 1,680만 원\n",
      "\n",
      "따라서 사용자는 종합부동산세로 1,680만 원을 납부하게 됩니다.\n"
     ]
    },
    {
     "data": {
      "text/plain": [
       "{'question': '5억짜리 집 1채, 10억짜리 집 1채, 20억짜리 집 1채를 가지고 있을 때 세금을 얼마나 내나요?',\n",
       " 'answer': '사용자는 3주택 이상을 소유한 경우에 해당합니다. 주어진 정보에 따라 과세 표준은 15.6억 원입니다. 이에 따라 세율을 적용하여 종합부동산세를 계산할 수 있습니다.\\n\\n3주택 이상 소유자의 경우 과세표준에 따른 세율은 다음과 같습니다:\\n\\n- 12억 원 초과 25억 원 이하: 960만 원 + (12억 원을 초과하는 금액의 1천분의 20)\\n\\n주어진 과세 표준은 15.6억 원이므로, 12억 원을 초과하는 금액은 3.6억 원입니다.\\n\\n따라서:\\n- 초과 금액에 대한 세액: 3.6억 원 × 0.002 = 720만 원\\n- 총 세금: 960만 원 + 720만 원 = 1,680만 원\\n\\n따라서 사용자는 종합부동산세로 1,680만 원을 납부하게 됩니다.',\n",
       " 'tax_base_equation': '과세표준 = (공시가격 합산금액 - 공제금액) × 공정시장가액비율',\n",
       " 'tax_deduction': '주택에 대한 종합부동산세를 계산할 때, 1세대 1주택자는 공제금액으로 12억 원까지 적용됩니다. 법인이나 법인으로 보는 단체는 공제금액으로 6억 원이 적용됩니다. 그 외의 경우에는 공제금액으로 9억 원이 적용됩니다.',\n",
       " 'market_ratio': '2025년의 주택 공시가격 공정시장가액비율은 1주택자의 경우, 3억 이하 43%, 3억 초과 6억 이하는 44%, 6억 초과는 45%로 적용됩니다. 다주택자나 법인의 경우 기본 비율 60%가 적용됩니다.',\n",
       " 'tax_base': '사용자의 주택 공시가격 합산금액은 5억 + 10억 + 20억 = 35억 원입니다.\\n\\n이 경우, 사용자는 다주택자로 간주되며, 공제금액으로 9억 원이 적용됩니다.\\n\\n따라서 과세표준은 다음과 같이 계산됩니다:\\n\\n과세표준 = (공시가격 합산금액 - 공제금액) × 공정시장가액비율\\n          = (35억 - 9억) × 60%\\n          = 26억 × 0.60\\n          = 15.6억 원\\n\\n과세표준은 15.6억 원입니다. 이 금액을 기준으로 종합부동산세를 계산하게 됩니다. 종합부동산세율을 알면, 세금 금액을 구할 수 있습니다. 그러나 주어진 정보만으로는 세율은 알 수 없습니다. 기본적인 과세 표준만 계산된 상태입니다.'}"
      ]
     },
     "execution_count": 90,
     "metadata": {},
     "output_type": "execute_result"
    }
   ],
   "source": [
    "graph.invoke(initial_state)"
   ]
  },
  {
   "cell_type": "code",
   "execution_count": null,
   "id": "6f2de0ee",
   "metadata": {},
   "outputs": [],
   "source": []
  }
 ],
 "metadata": {
  "kernelspec": {
   "display_name": ".venv",
   "language": "python",
   "name": "python3"
  },
  "language_info": {
   "codemirror_mode": {
    "name": "ipython",
    "version": 3
   },
   "file_extension": ".py",
   "mimetype": "text/x-python",
   "name": "python",
   "nbconvert_exporter": "python",
   "pygments_lexer": "ipython3",
   "version": "3.13.7"
  }
 },
 "nbformat": 4,
 "nbformat_minor": 5
}
