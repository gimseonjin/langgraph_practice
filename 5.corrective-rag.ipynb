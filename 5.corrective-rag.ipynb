{
 "cells": [
  {
   "cell_type": "code",
   "execution_count": 2,
   "id": "c767a9aa",
   "metadata": {},
   "outputs": [
    {
     "data": {
      "text/plain": [
       "True"
      ]
     },
     "execution_count": 2,
     "metadata": {},
     "output_type": "execute_result"
    }
   ],
   "source": [
    "from dotenv import load_dotenv\n",
    "\n",
    "load_dotenv()"
   ]
  },
  {
   "cell_type": "code",
   "execution_count": 3,
   "id": "29e8d3ba",
   "metadata": {},
   "outputs": [],
   "source": [
    "# vector store 생성\n",
    "from langchain_chroma import Chroma\n",
    "from langchain_openai import OpenAIEmbeddings\n",
    "\n",
    "embeddings = OpenAIEmbeddings(model=\"text-embedding-3-large\")\n",
    "\n",
    "vector_store = Chroma(\n",
    "    collection_name=\"income_tax_collection\",\n",
    "    persist_directory=\"./income_tax_collection\",\n",
    "    embedding_function=embeddings\n",
    ")\n",
    "\n",
    "retriver = vector_store.as_retriever(search_kwargs={\"k\": 3})"
   ]
  },
  {
   "cell_type": "code",
   "execution_count": 4,
   "id": "6a0f355a",
   "metadata": {},
   "outputs": [],
   "source": [
    "# llm 설정\n",
    "from langchain_openai import ChatOpenAI\n",
    "\n",
    "llm = ChatOpenAI(model=\"gpt-4o\")"
   ]
  },
  {
   "cell_type": "code",
   "execution_count": 12,
   "id": "9c2304a6",
   "metadata": {},
   "outputs": [],
   "source": [
    "# StateGraph\n",
    "from typing_extensions import TypedDict\n",
    "from langchain_core.documents import Document\n",
    "\n",
    "class AgentState(TypedDict):\n",
    "    question: str\n",
    "    answer: str\n",
    "    context: list"
   ]
  },
  {
   "cell_type": "code",
   "execution_count": 16,
   "id": "e81eede1",
   "metadata": {},
   "outputs": [],
   "source": [
    "# graph builder\n",
    "from langgraph.graph import StateGraph\n",
    "\n",
    "graph_builder = StateGraph(AgentState)"
   ]
  },
  {
   "cell_type": "code",
   "execution_count": 7,
   "id": "7cdae327",
   "metadata": {},
   "outputs": [],
   "source": [
    "# retriver node\n",
    "def retrive(state: AgentState) -> AgentState:\n",
    "    question = state[\"question\"]\n",
    "    docs = retriver.invoke(question)\n",
    "    return {\"context\": docs}"
   ]
  },
  {
   "cell_type": "code",
   "execution_count": null,
   "id": "bd45ba5d",
   "metadata": {},
   "outputs": [],
   "source": [
    "from langchain_classic import hub\n",
    "from langchain_core.output_parsers import StrOutputParser\n",
    "\n",
    "generate_prompt = hub.pull(\"rlm/rag-prompt\")\n",
    "\n",
    "def generate(state: AgentState) -> AgentState:\n",
    "    content = state[\"context\"]\n",
    "    question = state[\"question\"]\n",
    "    rag_chain = generate_prompt | llm | StrOutputParser()\n",
    "    answer = rag_chain.invoke({\"context\": content, \"question\": question})\n",
    "\n",
    "    print(f\"answer: {answer}\")\n",
    "    return {\"answer\": answer}"
   ]
  },
  {
   "cell_type": "code",
   "execution_count": 9,
   "id": "648df894",
   "metadata": {},
   "outputs": [],
   "source": [
    "# chekc docs node\n",
    "from langchain_classic import hub\n",
    "from typing import Literal\n",
    "\n",
    "doc_relevance_prompt = hub.pull(\"langchain-ai/rag-document-relevance\")\n",
    "\n",
    "def relevance_doc(state: AgentState) -> Literal['relevant', 'irrelevant']:\n",
    "    question = state[\"question\"]\n",
    "    context = state[\"context\"]\n",
    "    doc_relevance_chain = doc_relevance_prompt | llm\n",
    "    relevance = doc_relevance_chain.invoke({\"question\": question, \"documents\": context})\n",
    "\n",
    "    print(f\"context: {context}\")\n",
    "    print(f\"relevance: {relevance}\")\n",
    "\n",
    "    if relevance['Score'] == 1:\n",
    "        return 'relevant'\n",
    "    \n",
    "    return 'irrelevant'\n"
   ]
  },
  {
   "cell_type": "code",
   "execution_count": 10,
   "id": "aeb34548",
   "metadata": {},
   "outputs": [],
   "source": [
    "# rewrite node\n",
    "from langchain_core.prompts import PromptTemplate\n",
    "from langchain_core.output_parsers import StrOutputParser\n",
    "\n",
    "rewrite_prompt = PromptTemplate.from_template(f\"\"\"사용자의 질문을 보고, 웹 검색에 용의하게 사용자의 질문을 변경해주세요\n",
    "질문: {{question}}\n",
    "\"\"\")\n",
    "\n",
    "def rewrite(state: AgentState):\n",
    "    question = state[\"question\"]\n",
    "    rewrite_chain = rewrite_prompt | llm | StrOutputParser()\n",
    "    rewritten_question = rewrite_chain.invoke({\"question\": question})\n",
    "\n",
    "    print(f\"rewritten_question: {rewritten_question}\")\n",
    "    return {\"question\": rewritten_question}"
   ]
  },
  {
   "cell_type": "code",
   "execution_count": 14,
   "id": "0fb43611",
   "metadata": {},
   "outputs": [
    {
     "name": "stderr",
     "output_type": "stream",
     "text": [
      "/var/folders/z1/kkrl3fn92r95z4l05sfrl4x40000gn/T/ipykernel_17863/2679622819.py:3: LangChainDeprecationWarning: The class `TavilySearchResults` was deprecated in LangChain 0.3.25 and will be removed in 1.0. An updated version of the class exists in the `langchain-tavily package and should be used instead. To use it run `pip install -U `langchain-tavily` and import as `from `langchain_tavily import TavilySearch``.\n",
      "  tavliy_search_tool = TavilySearchResults(\n"
     ]
    }
   ],
   "source": [
    "from langchain_community.tools import TavilySearchResults\n",
    "\n",
    "tavliy_search_tool = TavilySearchResults(\n",
    "    max_results=3,\n",
    "    search_depth=\"advanced\",\n",
    "    include_answer=True,\n",
    "    include_raw_content=True,\n",
    "    include_images=True,\n",
    ")\n",
    "\n",
    "def web_search(state: AgentState) :\n",
    "    question = state[\"question\"]\n",
    "    search_tool = tavliy_search_tool.as_tool()\n",
    "    result = search_tool.invoke({\"query\": question})\n",
    "\n",
    "    print(f\"result: {result}\")\n",
    "    return {\"context\": result}\n"
   ]
  },
  {
   "cell_type": "code",
   "execution_count": 17,
   "id": "69c6646b",
   "metadata": {},
   "outputs": [
    {
     "data": {
      "text/plain": [
       "<langgraph.graph.state.StateGraph at 0x11d8e0f50>"
      ]
     },
     "execution_count": 17,
     "metadata": {},
     "output_type": "execute_result"
    }
   ],
   "source": [
    "graph_builder.add_node(\"retrive\", retrive)\n",
    "graph_builder.add_node(\"generate\", generate)\n",
    "graph_builder.add_node(\"rewrite\", rewrite)\n",
    "graph_builder.add_node(\"web_search\", web_search)"
   ]
  },
  {
   "cell_type": "code",
   "execution_count": 18,
   "id": "94d2f4b9",
   "metadata": {},
   "outputs": [
    {
     "data": {
      "text/plain": [
       "<langgraph.graph.state.StateGraph at 0x11d8e0f50>"
      ]
     },
     "execution_count": 18,
     "metadata": {},
     "output_type": "execute_result"
    }
   ],
   "source": [
    "from langgraph.graph import START, END\n",
    "\n",
    "graph_builder.add_edge(START, \"retrive\")\n",
    "graph_builder.add_conditional_edges(\n",
    "    \"retrive\",\n",
    "    relevance_doc,\n",
    "    {\n",
    "        \"relevant\": \"generate\",\n",
    "        \"irrelevant\": \"rewrite\"\n",
    "    }\n",
    ")\n",
    "\n",
    "graph_builder.add_edge(\"rewrite\", \"web_search\")\n",
    "graph_builder.add_edge(\"web_search\", \"generate\")\n",
    "graph_builder.add_edge(\"generate\", END)\n"
   ]
  },
  {
   "cell_type": "code",
   "execution_count": 19,
   "id": "f661ca9b",
   "metadata": {},
   "outputs": [],
   "source": [
    "graph = graph_builder.compile()"
   ]
  },
  {
   "cell_type": "code",
   "execution_count": 20,
   "id": "8caa3ef0",
   "metadata": {},
   "outputs": [
    {
     "data": {
      "image/png": "[encoded data removed]",
      "text/plain": [
       "<IPython.core.display.Image object>"
      ]
     },
     "metadata": {},
     "output_type": "display_data"
    }
   ],
   "source": [
    "from IPython.display import Image, display\n",
    "\n",
    "display(Image(graph.get_graph().draw_mermaid_png()))"
   ]
  },
  {
   "cell_type": "code",
   "execution_count": null,
   "id": "2ca1539b",
   "metadata": {},
   "outputs": [],
   "source": [
    "question = \"연봉 5천만원 거주자의 소득세는 얼마인가요?\"\n",
    "initial_state = {\"question\": question}\n",
    "\n",
    "graph.invoke(initial_state)"
   ]
  }
 ],
 "metadata": {
  "kernelspec": {
   "display_name": ".venv",
   "language": "python",
   "name": "python3"
  },
  "language_info": {
   "codemirror_mode": {
    "name": "ipython",
    "version": 3
   },
   "file_extension": ".py",
   "mimetype": "text/x-python",
   "name": "python",
   "nbconvert_exporter": "python",
   "pygments_lexer": "ipython3",
   "version": "3.13.7"
  }
 },
 "nbformat": 4,
 "nbformat_minor": 5
}
