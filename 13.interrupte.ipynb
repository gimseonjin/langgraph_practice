{
 "cells": [
  {
   "cell_type": "code",
   "execution_count": 1,
   "id": "8c020deb",
   "metadata": {},
   "outputs": [
    {
     "data": {
      "text/plain": [
       "True"
      ]
     },
     "execution_count": 1,
     "metadata": {},
     "output_type": "execute_result"
    }
   ],
   "source": [
    "from dotenv import load_dotenv\n",
    "\n",
    "load_dotenv()"
   ]
  },
  {
   "cell_type": "code",
   "execution_count": 2,
   "id": "52873e0c",
   "metadata": {},
   "outputs": [],
   "source": [
    "# llm 설정\n",
    "from langchain_openai import ChatOpenAI\n",
    "\n",
    "llm = ChatOpenAI(model=\"gpt-4o-mini\")"
   ]
  },
  {
   "cell_type": "code",
   "execution_count": 3,
   "id": "56da2755",
   "metadata": {},
   "outputs": [],
   "source": [
    "from langchain_community.tools import DuckDuckGoSearchRun\n",
    "\n",
    "search = DuckDuckGoSearchRun()"
   ]
  },
  {
   "cell_type": "code",
   "execution_count": 4,
   "id": "7f9d2fdf",
   "metadata": {},
   "outputs": [],
   "source": [
    "from langchain_core.tools import tool\n",
    "\n",
    "@tool\n",
    "def add(a: int, b: int) -> int:\n",
    "    \"\"\"Add two numbers together\"\"\"\n",
    "    return a + b\n",
    "\n",
    "@tool\n",
    "def multiply(a: int, b: int) -> int:\n",
    "    \"\"\"Multiply two numbers together\"\"\"\n",
    "    return a * b"
   ]
  },
  {
   "cell_type": "code",
   "execution_count": 5,
   "id": "4f30493b",
   "metadata": {},
   "outputs": [],
   "source": [
    "# vector store 생성\n",
    "from langchain_chroma import Chroma\n",
    "from langchain_openai import OpenAIEmbeddings\n",
    "\n",
    "embeddings = OpenAIEmbeddings(model=\"text-embedding-3-large\")\n",
    "\n",
    "vector_store = Chroma(\n",
    "    collection_name=\"real_estate_tax\",\n",
    "    persist_directory=\"./real_estate_tax_collection\",\n",
    "    embedding_function=embeddings\n",
    ")\n",
    "\n",
    "retriver = vector_store.as_retriever(search_kwargs={\"k\": 3})"
   ]
  },
  {
   "cell_type": "code",
   "execution_count": 6,
   "id": "a1348f28",
   "metadata": {},
   "outputs": [],
   "source": [
    "from langchain_core.tools import create_retriever_tool\n",
    "\n",
    "retriever_tool = create_retriever_tool(\n",
    "    retriver, \n",
    "    \"real_estate_tax_retriever\",\n",
    "    \"Real Estate Tax Retriever\"\n",
    ")"
   ]
  },
  {
   "cell_type": "code",
   "execution_count": 7,
   "id": "c4487671",
   "metadata": {},
   "outputs": [],
   "source": [
    "from langgraph.prebuilt import ToolNode\n",
    "\n",
    "tool_list = [add, multiply, search, retriever_tool]\n",
    "\n",
    "tool_node = ToolNode(tool_list)\n",
    "llm_with_tools = llm.bind_tools(tool_list)"
   ]
  },
  {
   "cell_type": "code",
   "execution_count": 8,
   "id": "e3e49167",
   "metadata": {},
   "outputs": [],
   "source": [
    "from langgraph.graph import MessagesState, StateGraph\n",
    "\n",
    "class AgentState(MessagesState):\n",
    "    summary: str\n",
    "\n",
    "graph_builder = StateGraph(AgentState)"
   ]
  },
  {
   "cell_type": "code",
   "execution_count": 9,
   "id": "498aec14",
   "metadata": {},
   "outputs": [],
   "source": [
    "from langchain_core.messages import SystemMessage\n",
    "\n",
    "def agent(state: AgentState):\n",
    "    message = state['messages']\n",
    "    summary = state['summary']\n",
    "\n",
    "    if summary != '':\n",
    "        message = [SystemMessage(content=f\"Here is the summary of previous conversations: {summary}\")] + message\n",
    "\n",
    "    response = llm_with_tools.invoke(message)\n",
    "    return {'messages': [response]}"
   ]
  },
  {
   "cell_type": "code",
   "execution_count": 10,
   "id": "d4f497e3",
   "metadata": {},
   "outputs": [],
   "source": [
    "from typing import Literal\n",
    "from langchain_core.messages import content\n",
    "from langgraph.types import Command, interrupt\n",
    "\n",
    "def human_review(state: AgentState) -> Command[Literal['tools', 'agent']]:\n",
    "    messages = state['messages']\n",
    "    last_message = messages[-1]\n",
    "    tool_call = last_message.tool_calls[-1]\n",
    "    human_review = interrupt({\n",
    "        'question': '이렇게 진행하면 될까요?',\n",
    "        'tool_call': tool_call\n",
    "    })\n",
    "    review_action = human_review['action']\n",
    "    review_data = human_review.get('data', None)\n",
    "    \n",
    "    if review_action == 'continue':\n",
    "        # 에이전트의 판단이 맞다면, 도구를 사용하기 위해 아무것도 수정하지 않고 `tools` 노드로 이동합니다\n",
    "        return Command(goto='tools')\n",
    "    \n",
    "    if review_action == 'update_args':\n",
    "        # 도구를 더 효율적으로 사용하기 위해 AIMessage의 `tool_calls` 필드를 업데이트합니다\n",
    "        updated_ai_message = {\n",
    "            'id': last_message.id,\n",
    "            'role': 'ai',\n",
    "            'content': last_message.content,\n",
    "            'tool_calls': [{\n",
    "                'id': tool_call['id'],\n",
    "                'name': tool_call['name'],\n",
    "                'args': review_data\n",
    "            }],\n",
    "        }\n",
    "        return Command(goto='tools', update={'messages': [updated_ai_message]})\n",
    "    \n",
    "    if review_action == 'update_tool':\n",
    "        # 다른 도구를 사용하기 위해 `ToolMessage`를 업데이트합니다 \n",
    "        updated_tool_message = {\n",
    "            'tool_call_id': tool_call['id'],\n",
    "            'name': tool_call['name'],\n",
    "            'role': 'tool',\n",
    "            'content': review_data\n",
    "        }\n",
    "        return Command(goto='agent', update={'messages': [updated_tool_message]})\n"
   ]
  },
  {
   "cell_type": "code",
   "execution_count": 11,
   "id": "f032a9d0",
   "metadata": {},
   "outputs": [],
   "source": [
    "def summarize_messages(state: AgentState):\n",
    "    # state에서 메시지와 요약을 가져옵니다.\n",
    "    messages = state['messages']\n",
    "    summary = state['summary']\n",
    "    \n",
    "    # 요약 프롬프트를 생성합니다.\n",
    "    summary_prompt = f'summarize this chat history below: \\n\\nchat_history:{messages}'\n",
    "    \n",
    "    # 기존 요약이 있으면, 요약을 포함한 프롬프트를 생성합니다.\n",
    "    if summary != '':\n",
    "        summary_prompt = f'''summarize this chat history below while looking at the summary of earlier conversations\n",
    "chat_history:{messages}\n",
    "summary:{summary}'''\n",
    "    \n",
    "    # LLM을 사용하여 요약을 생성합니다.\n",
    "    summary = llm.invoke(summary_prompt)\n",
    "    \n",
    "    # 요약된 메시지를 반환합니다.\n",
    "    return {'summary': summary.content}\n"
   ]
  },
  {
   "cell_type": "code",
   "execution_count": 12,
   "id": "c7c403db",
   "metadata": {},
   "outputs": [],
   "source": [
    "from langchain_core.messages import RemoveMessage\n",
    "\n",
    "def delete_message(state: MessagesState):\n",
    "    current_message_list = state['messages']\n",
    "    delete_message_list = [RemoveMessage(id=message.id) for message in current_message_list[:-3]]\n",
    "    return {'messages': delete_message_list}"
   ]
  },
  {
   "cell_type": "code",
   "execution_count": 13,
   "id": "64bbc5e8",
   "metadata": {},
   "outputs": [],
   "source": [
    "from typing import Literal\n",
    "\n",
    "def should_continue(state: MessagesState) -> Literal['human_review', 'summarize_messages']:\n",
    "    messages = state['messages']\n",
    "    last_message = messages[-1]\n",
    "    if last_message.tool_calls:\n",
    "        return 'human_review'\n",
    "    else:\n",
    "        return 'summarize_messages'\n",
    "        "
   ]
  },
  {
   "cell_type": "code",
   "execution_count": 14,
   "id": "0d5991c5",
   "metadata": {},
   "outputs": [
    {
     "data": {
      "text/plain": [
       "<langgraph.graph.state.StateGraph at 0x117e2e3c0>"
      ]
     },
     "execution_count": 14,
     "metadata": {},
     "output_type": "execute_result"
    }
   ],
   "source": [
    "graph_builder.add_node(agent)\n",
    "graph_builder.add_node('tools', tool_node)\n",
    "graph_builder.add_node(human_review)\n",
    "graph_builder.add_node(delete_message)\n",
    "graph_builder.add_node(summarize_messages)"
   ]
  },
  {
   "cell_type": "code",
   "execution_count": 15,
   "id": "798c1f3f",
   "metadata": {},
   "outputs": [
    {
     "data": {
      "text/plain": [
       "<langgraph.graph.state.StateGraph at 0x117e2e3c0>"
      ]
     },
     "execution_count": 15,
     "metadata": {},
     "output_type": "execute_result"
    }
   ],
   "source": [
    "from langgraph.graph import START, END\n",
    "\n",
    "graph_builder.add_edge(START, 'agent')\n",
    "graph_builder.add_conditional_edges(\n",
    "    'agent', \n",
    "    should_continue,\n",
    "    {\n",
    "        'human_review': 'human_review',\n",
    "        'summarize_messages': 'summarize_messages'\n",
    "    }\n",
    ")\n",
    "graph_builder.add_edge('tools', 'agent')\n",
    "graph_builder.add_edge('summarize_messages', 'delete_message')\n",
    "graph_builder.add_edge('delete_message', END)"
   ]
  },
  {
   "cell_type": "code",
   "execution_count": 16,
   "id": "16f1c400",
   "metadata": {},
   "outputs": [],
   "source": [
    "from langgraph.checkpoint.memory import MemorySaver\n",
    "\n",
    "checkpoint = MemorySaver()\n",
    "\n",
    "graph = graph_builder.compile(\n",
    "    checkpointer=checkpoint\n",
    ")"
   ]
  },
  {
   "cell_type": "code",
   "execution_count": 17,
   "id": "f554b529",
   "metadata": {},
   "outputs": [
    {
     "data": {
      "image/png": "[encoded data removed]",
      "text/plain": [
       "<IPython.core.display.Image object>"
      ]
     },
     "metadata": {},
     "output_type": "display_data"
    }
   ],
   "source": [
    "from IPython.display import Image, display\n",
    "\n",
    "display(Image(graph.get_graph().draw_mermaid_png()))"
   ]
  },
  {
   "cell_type": "code",
   "execution_count": 18,
   "id": "5f56351c",
   "metadata": {},
   "outputs": [],
   "source": [
    "from langchain_core.messages import HumanMessage\n",
    "\n",
    "config = {\n",
    "    'configurable': {\n",
    "        'thread_id': \"real_estate_tax\"\n",
    "    }\n",
    "}\n",
    "\n",
    "messages = [HumanMessage(content=\"집이 15억일 때 종합부동산세를 계산해줄 수 있나요?\")]"
   ]
  },
  {
   "cell_type": "code",
   "execution_count": 19,
   "id": "3a53ecda",
   "metadata": {},
   "outputs": [
    {
     "name": "stdout",
     "output_type": "stream",
     "text": [
      "================================\u001b[1m Human Message \u001b[0m=================================\n",
      "\n",
      "집이 15억일 때 종합부동산세를 계산해줄 수 있나요?\n",
      "==================================\u001b[1m Ai Message \u001b[0m==================================\n",
      "Tool Calls:\n",
      "  real_estate_tax_retriever (call_R02EDyuakAW8PCVcuWTxDkk9)\n",
      " Call ID: call_R02EDyuakAW8PCVcuWTxDkk9\n",
      "  Args:\n",
      "    query: 종합부동산세 15억\n"
     ]
    }
   ],
   "source": [
    "for chunk in graph.stream({'messages': messages, \"summary\": \"\"}, stream_mode='values', config=config):\n",
    "    if 'messages' in chunk:\n",
    "        chunk['messages'][-1].pretty_print()"
   ]
  },
  {
   "cell_type": "code",
   "execution_count": 20,
   "id": "be0965a0",
   "metadata": {},
   "outputs": [
    {
     "name": "stdout",
     "output_type": "stream",
     "text": [
      "{'human_review': {'messages': [{'tool_call_id': 'call_R02EDyuakAW8PCVcuWTxDkk9', 'name': 'real_estate_tax_retriever', 'role': 'tool', 'content': '웹 서치로 진행해주세요'}]}}\n",
      "{'agent': {'messages': [AIMessage(content='', additional_kwargs={'refusal': None}, response_metadata={'token_usage': {'completion_tokens': 27, 'prompt_tokens': 217, 'total_tokens': 244, 'completion_tokens_details': {'accepted_prediction_tokens': 0, 'audio_tokens': 0, 'reasoning_tokens': 0, 'rejected_prediction_tokens': 0}, 'prompt_tokens_details': {'audio_tokens': 0, 'cached_tokens': 0}}, 'model_provider': 'openai', 'model_name': 'gpt-4o-mini-2024-07-18', 'system_fingerprint': 'fp_560af6e559', 'id': 'chatcmpl-CUl1jtP2uIysQvMcO2EXUmbuYrDAk', 'service_tier': 'default', 'finish_reason': 'tool_calls', 'logprobs': None}, id='lc_run--f640ec8f-e234-43cb-95ed-7d30884170b6-0', tool_calls=[{'name': 'duckduckgo_search', 'args': {'query': '한국 종합부동산세 계산 15억'}, 'id': 'call_hKniUtAQUcxytRSp53Pd9LzV', 'type': 'tool_call'}], usage_metadata={'input_tokens': 217, 'output_tokens': 27, 'total_tokens': 244, 'input_token_details': {'audio': 0, 'cache_read': 0}, 'output_token_details': {'audio': 0, 'reasoning': 0}})]}}\n",
      "{'__interrupt__': (Interrupt(value={'question': '이렇게 진행하면 될까요?', 'tool_call': {'name': 'duckduckgo_search', 'args': {'query': '한국 종합부동산세 계산 15억'}, 'id': 'call_hKniUtAQUcxytRSp53Pd9LzV', 'type': 'tool_call'}}, id='7fd667ca197a88629fb3f247ddb1174c'),)}\n"
     ]
    }
   ],
   "source": [
    "for chunk in graph.stream(\n",
    "    Command(resume={\"action\": \"update_tool\", \"data\": \"웹 서치로 진행해주세요\"}),\n",
    "    config=config,\n",
    "    stream_mode='updates'\n",
    "):\n",
    "    print(chunk)"
   ]
  },
  {
   "cell_type": "code",
   "execution_count": 21,
   "id": "e2875b4e",
   "metadata": {},
   "outputs": [
    {
     "name": "stdout",
     "output_type": "stream",
     "text": [
      "{'human_review': None}\n",
      "{'tools': {'messages': [ToolMessage(content=\"July 19, 2025 - 종합부동산세(綜合不動産稅, 간단히 종부세)는 대한민국에서 국세청이 일정한 기준을 초과하는 토지 및 주택의 소유자에 대해 부과하는 세금 또는 그 제도를 말한다. 종부세는 「종합부동산세법」에 따라 부과되며, 고액의 ... Oct 19, 2025 · 한국 (韓國), 조선 (朝鮮), 남북한 (南北韓), 또는 코리아 (영어: Korea)는 동아시아 의 한반도 (조선반도)에 위치한 지역 또는 나라 를 지칭하는 말로, 오늘날에는 한반도와 그 부속 … June 23, 2025 - 종부세 계산기를 사용하면 내가 낼 종부세를 미리 계산할 수 있어요. KB스타뱅킹에서 종합부동산세 계산하기 6 days ago - 아파트 단독명의나 부부 ... 집계됐다. 실제 부부 공동명의로 15억 원 아파트를 2년째 보유 중인 A 씨가 있다고 할 때 이 사람이 올해 물어야 할 종부세는 한 푼도 없다 .... November 26, 2024 - 주택분 기본공제 '6→9억원', 1세대1주택자 '11→12억원' 상향 조정대상지역 2주택자 중과세율 폐지, 다주택자 세부담 상한율 '300%→150%' 윤석열 정부 출범 이후 최근 2년간 종합부동산세 적용 ...\", name='duckduckgo_search', id='c4181d1b-78c0-4ecf-b171-1e7e6acd7175', tool_call_id='call_hKniUtAQUcxytRSp53Pd9LzV')]}}\n",
      "{'agent': {'messages': [AIMessage(content='종합부동산세는 주택 및 토지의 공시가격에 따라 부과됩니다. 현재 15억 원의 주택에 대해 종합부동산세를 계산할 때, 몇 가지 주요 사항을 고려해야 합니다:\\n\\n1. **기본 공제:** 1세대 1주택자는 기본 공제 12억 원이 적용됩니다.\\n2. **세율:** 주택의 공시가격에 따라 세율이 다르게 적용됩니다. 15억 원의 주택이므로 기본 공제를 제외하면 3억 원이 과세 대상이 됩니다.\\n3. **세율 적용 예시:** 대체로 3억 원에 대하여 0.5%에서 2%의 세율이 적용됩니다. \\n\\n과세표준을 기준으로 계산하면 대략적으로 다음과 같은 계산이 이루어질 수 있습니다:\\n\\n- 과세표준: 15억 원 - 12억 원 (기본 공제) = 3억 원\\n- 세액: 3억 원에 대해 약 0.5%~2% 적용\\n\\n즉, 대략적으로 150만 원에서 600만 원 정도의 종합부동산세가 부과될 수 있습니다. 정확한 금액은 해당 연도의 세법 및 세율에 따라 다를 수 있습니다.\\n\\n종합부동산세와 관련된 보다 정확한 계산기는 온라인에서 제공되는 경우가 많으니 참고하시면 좋겠습니다.', additional_kwargs={'refusal': None}, response_metadata={'token_usage': {'completion_tokens': 314, 'prompt_tokens': 615, 'total_tokens': 929, 'completion_tokens_details': {'accepted_prediction_tokens': 0, 'audio_tokens': 0, 'reasoning_tokens': 0, 'rejected_prediction_tokens': 0}, 'prompt_tokens_details': {'audio_tokens': 0, 'cached_tokens': 0}}, 'model_provider': 'openai', 'model_name': 'gpt-4o-mini-2024-07-18', 'system_fingerprint': 'fp_560af6e559', 'id': 'chatcmpl-CUl1lqhG5ZY8XePrHkekJQnBHSHhs', 'service_tier': 'default', 'finish_reason': 'stop', 'logprobs': None}, id='lc_run--f05f7cba-2052-4317-ace2-3cb6b55894e8-0', usage_metadata={'input_tokens': 615, 'output_tokens': 314, 'total_tokens': 929, 'input_token_details': {'audio': 0, 'cache_read': 0}, 'output_token_details': {'audio': 0, 'reasoning': 0}})]}}\n",
      "{'summarize_messages': {'summary': 'In this chat, a user inquires about calculating the comprehensive real estate tax (종합부동산세) for a property valued at 15 billion won in South Korea. The AI initially prompts a web search for relevant information on this tax. After retrieving data, the AI explains that the comprehensive real estate tax is assessed based on the publicly assessed value of properties, incorporating a basic exemption amount. \\n\\nKey points shared include:\\n1. A basic exemption of 12 billion won for one-household-one-property owners.\\n2. For a property valued at 15 billion won, after the exemption, 3 billion won becomes taxable.\\n3. Tax rates typically range from 0.5% to 2%.\\n\\nConsequently, the estimated tax owed would likely fall between 1.5 million and 6 million won. The AI also recommends using online calculators for a more precise computation.'}}\n",
      "{'delete_message': {'messages': [RemoveMessage(content='', additional_kwargs={}, response_metadata={}, id='4d19d43a-c655-4b30-b917-b5152c712f9c'), RemoveMessage(content='', additional_kwargs={}, response_metadata={}, id='lc_run--a9f38bc5-9403-42cb-b414-604308d9c375-0'), RemoveMessage(content='', additional_kwargs={}, response_metadata={}, id='126e59e9-2c35-49af-9ac6-5a6811faf8e3')]}}\n"
     ]
    }
   ],
   "source": [
    "for chunk in graph.stream(\n",
    "    Command(resume={\"action\": \"continue\"}),\n",
    "    config=config,\n",
    "    stream_mode='updates'\n",
    "):\n",
    "    print(chunk)"
   ]
  },
  {
   "cell_type": "code",
   "execution_count": 22,
   "id": "b83df91d",
   "metadata": {},
   "outputs": [],
   "source": [
    "# current_message_list = graph.get_state(config).values['messages']\n",
    "# current_message_list"
   ]
  },
  {
   "cell_type": "markdown",
   "id": "e8857c64",
   "metadata": {},
   "source": []
  },
  {
   "cell_type": "code",
   "execution_count": 23,
   "id": "1d3644f1",
   "metadata": {},
   "outputs": [],
   "source": [
    "# question = \"어디서는 1340만원이라는데?? 어떻게 된거야?\"\n",
    "# for chunk in graph.stream({'messages': HumanMessage(content=question)}, stream_mode='values', config=config):\n",
    "#     chunk['messages'][-1].pretty_print()"
   ]
  },
  {
   "cell_type": "code",
   "execution_count": null,
   "id": "002ff7de",
   "metadata": {},
   "outputs": [],
   "source": []
  }
 ],
 "metadata": {
  "kernelspec": {
   "display_name": ".venv",
   "language": "python",
   "name": "python3"
  },
  "language_info": {
   "codemirror_mode": {
    "name": "ipython",
    "version": 3
   },
   "file_extension": ".py",
   "mimetype": "text/x-python",
   "name": "python",
   "nbconvert_exporter": "python",
   "pygments_lexer": "ipython3",
   "version": "3.13.7"
  }
 },
 "nbformat": 4,
 "nbformat_minor": 5
}
