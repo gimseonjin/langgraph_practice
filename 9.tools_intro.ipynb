{
 "cells": [
  {
   "cell_type": "code",
   "execution_count": 1,
   "id": "c2ede4a5",
   "metadata": {},
   "outputs": [],
   "source": [
    "# llm 설정\n",
    "from langchain_openai import ChatOpenAI\n",
    "\n",
    "llm = ChatOpenAI(model=\"gpt-4o-mini\")"
   ]
  },
  {
   "cell_type": "code",
   "execution_count": 2,
   "id": "b75c08c4",
   "metadata": {},
   "outputs": [],
   "source": [
    "from langchain_core.tools import tool\n",
    "\n",
    "@tool\n",
    "def add(a: int, b: int) -> int:\n",
    "    \"\"\"Add two numbers together\"\"\"\n",
    "    return a + b\n",
    "\n",
    "@tool\n",
    "def multiply(a: int, b: int) -> int:\n",
    "    \"\"\"Multiply two numbers together\"\"\"\n",
    "    return a * b"
   ]
  },
  {
   "cell_type": "code",
   "execution_count": 5,
   "id": "a672949f",
   "metadata": {},
   "outputs": [],
   "source": [
    "llm_with_tools = llm.bind_tools([add, multiply])"
   ]
  },
  {
   "cell_type": "code",
   "execution_count": 7,
   "id": "3a7af569",
   "metadata": {},
   "outputs": [
    {
     "data": {
      "text/plain": [
       "[{'name': 'add',\n",
       "  'args': {'a': 2, 'b': 2},\n",
       "  'id': 'call_Csdi33KEUwITa52yNrTQRh1T',\n",
       "  'type': 'tool_call'},\n",
       " {'name': 'multiply',\n",
       "  'args': {'a': 2, 'b': 2},\n",
       "  'id': 'call_VMi4Y8wgaupdOCUvnBMHJdJ1',\n",
       "  'type': 'tool_call'}]"
      ]
     },
     "execution_count": 7,
     "metadata": {},
     "output_type": "execute_result"
    }
   ],
   "source": [
    "question = \"What is 2 + 2? What is 2 * 2?\"\n",
    "result = llm_with_tools.invoke(question)\n",
    "\n",
    "result.tool_calls"
   ]
  },
  {
   "cell_type": "code",
   "execution_count": 8,
   "id": "6b555c0e",
   "metadata": {},
   "outputs": [],
   "source": [
    "from langchain_core.messages import AnyMessage, HumanMessage\n",
    "from typing import Sequence\n",
    "\n",
    "human_message = HumanMessage(question)\n",
    "message_list: Sequence[AnyMessage] = [\n",
    "    human_message\n",
    "]\n",
    "\n",
    "ai_message = llm_with_tools.invoke(message_list)"
   ]
  },
  {
   "cell_type": "code",
   "execution_count": 9,
   "id": "e5e91ebf",
   "metadata": {},
   "outputs": [
    {
     "data": {
      "text/plain": [
       "[{'name': 'add',\n",
       "  'args': {'a': 2, 'b': 2},\n",
       "  'id': 'call_gfIHwrLxEDvagL8BwYFsKFKl',\n",
       "  'type': 'tool_call'},\n",
       " {'name': 'multiply',\n",
       "  'args': {'a': 2, 'b': 2},\n",
       "  'id': 'call_VGWNefRnfxK7VbBboQIdCFxc',\n",
       "  'type': 'tool_call'}]"
      ]
     },
     "execution_count": 9,
     "metadata": {},
     "output_type": "execute_result"
    }
   ],
   "source": [
    "ai_message.tool_calls"
   ]
  },
  {
   "cell_type": "code",
   "execution_count": 10,
   "id": "59e6c455",
   "metadata": {},
   "outputs": [],
   "source": [
    "message_list.append(ai_message)"
   ]
  },
  {
   "cell_type": "code",
   "execution_count": null,
   "id": "0ad2a5eb",
   "metadata": {},
   "outputs": [],
   "source": [
    "add.invoke(ai_message.tool_calls[0])\n",
    "multiply.invoke(ai_message.tool_calls[1])"
   ]
  }
 ],
 "metadata": {
  "kernelspec": {
   "display_name": ".venv",
   "language": "python",
   "name": "python3"
  },
  "language_info": {
   "codemirror_mode": {
    "name": "ipython",
    "version": 3
   },
   "file_extension": ".py",
   "mimetype": "text/x-python",
   "name": "python",
   "nbconvert_exporter": "python",
   "pygments_lexer": "ipython3",
   "version": "3.13.7"
  }
 },
 "nbformat": 4,
 "nbformat_minor": 5
}
