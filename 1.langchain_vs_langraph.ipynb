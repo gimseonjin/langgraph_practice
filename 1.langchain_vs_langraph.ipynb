{
 "cells": [
  {
   "cell_type": "code",
   "execution_count": 4,
   "id": "c290eb31",
   "metadata": {},
   "outputs": [
    {
     "name": "stdout",
     "output_type": "stream",
     "text": [
      "\u001b[2mAudited \u001b[1m2 packages\u001b[0m \u001b[2min 25ms\u001b[0m\u001b[0m\n"
     ]
    }
   ],
   "source": [
    "!uv pip install python-dotenv langchain-openai"
   ]
  },
  {
   "cell_type": "code",
   "execution_count": 6,
   "id": "fa3e92d1",
   "metadata": {},
   "outputs": [
    {
     "data": {
      "text/plain": [
       "True"
      ]
     },
     "execution_count": 6,
     "metadata": {},
     "output_type": "execute_result"
    }
   ],
   "source": [
    "from dotenv import load_dotenv\n",
    "\n",
    "load_dotenv()"
   ]
  },
  {
   "cell_type": "code",
   "execution_count": 7,
   "id": "3f6fbac1",
   "metadata": {},
   "outputs": [
    {
     "data": {
      "text/plain": [
       "AIMessage(content='안녕하세요! 백엔드 개발자에서 AI Agent 개발자로 전환하고 싶으시군요. 그런 결정을 내리기 전에 몇 가지 고려해야 할 사항이 있습니다.\\n\\n먼저, AI Agent 개발자가 되기 위해서는 AI 및 머신러닝에 대한 깊은 이해와 경험이 필요합니다. 이를 위해 관련된 학습 및 교육을 통해 필요한 지식과 기술을 습득하는 것이 중요합니다. 온라인 강의나 교육 프로그램을 통해 AI 및 머신러닝에 대한 기초를 다지는 것부터 시작해보세요.\\n\\n또한, 프로젝트나 경험을 통해 실무적인 능력을 키우는 것도 중요합니다. AI Agent 개발자로서의 경력을 쌓기 위해 관련된 프로젝트에 참여하거나 개인 프로젝트를 진행해보는 것을 추천합니다.\\n\\n또한, AI 및 머신러닝 분야는 빠르게 변화하는 기술 분야이기 때문에 지속적인 학습과 연구가 필요합니다. 관련 논문을 읽거나 최신 기술 동향을 파악하는 것도 중요합니다.\\n\\n마지막으로, AI Agent 개발자로의 전환은 시간과 노력이 필요한 과정이므로 인내심을 가지고 꾸준히 노력하며 성장해나가는 것이 중요합니다.\\n\\n이러한 과정을 거쳐 백엔드 개발자에서 AI Agent 개발자로의 전환을 성공적으로 이뤄낼 수 있을 것입니다. 행운을 빕니다!', additional_kwargs={'refusal': None}, response_metadata={'token_usage': {'completion_tokens': 520, 'prompt_tokens': 55, 'total_tokens': 575, 'completion_tokens_details': {'accepted_prediction_tokens': 0, 'audio_tokens': 0, 'reasoning_tokens': 0, 'rejected_prediction_tokens': 0}, 'prompt_tokens_details': {'audio_tokens': 0, 'cached_tokens': 0}}, 'model_name': 'gpt-3.5-turbo-0125', 'system_fingerprint': None, 'finish_reason': 'stop', 'logprobs': None}, id='run-01fe5562-2052-49bc-8ba0-41a13706b8fb-0', usage_metadata={'input_tokens': 55, 'output_tokens': 520, 'total_tokens': 575, 'input_token_details': {'audio': 0, 'cache_read': 0}, 'output_token_details': {'audio': 0, 'reasoning': 0}})"
      ]
     },
     "execution_count": 7,
     "metadata": {},
     "output_type": "execute_result"
    }
   ],
   "source": [
    "from langchain_openai import ChatOpenAI\n",
    "\n",
    "query = \"안녕 만나서 반가워 백엔드 개발자가 Ai Agent 개발자로 커리어를 전환하고 싶어 조언을 구해줘\"\n",
    "\n",
    "llm = ChatOpenAI()\n",
    "\n",
    "llm.invoke(query)\n",
    "\n"
   ]
  },
  {
   "cell_type": "code",
   "execution_count": 9,
   "id": "3c67ee6e",
   "metadata": {},
   "outputs": [
    {
     "name": "stdout",
     "output_type": "stream",
     "text": [
      "\u001b[2mAudited \u001b[1m1 package\u001b[0m \u001b[2min 2ms\u001b[0m\u001b[0m\n"
     ]
    }
   ],
   "source": [
    "# state, node, edge, conditional edge\n",
    "# state는 현재 agent의 상태\n",
    "# node는 agent가 수행하는 작업 || 함수\n",
    "# edge는 노드 사이의 연결 -> 실선\n",
    "# conditional edge는 조건에 따라 다른 노드로 이동 -> 점선\n",
    "\n",
    "!uv pip install langgraph"
   ]
  },
  {
   "cell_type": "code",
   "execution_count": 11,
   "id": "696fac38",
   "metadata": {},
   "outputs": [],
   "source": [
    "from typing import Annotated\n",
    "from typing_extensions import TypedDict\n",
    "\n",
    "from langgraph.graph.message import add_messages\n",
    "from langchain_core.messages import AnyMessage\n",
    "\n",
    "class AgentState(TypedDict):\n",
    "    messages: list[Annotated[AnyMessage, add_messages]]\n",
    "    "
   ]
  },
  {
   "cell_type": "code",
   "execution_count": 12,
   "id": "d123edb1",
   "metadata": {},
   "outputs": [],
   "source": [
    "from langgraph.graph import StateGraph\n",
    "\n",
    "graph_builder = StateGraph(AgentState)\n"
   ]
  },
  {
   "cell_type": "code",
   "execution_count": 14,
   "id": "d9d70ba5",
   "metadata": {},
   "outputs": [],
   "source": [
    "def generate(state: AgentState) -> AgentState:\n",
    "    messages = state[\"messages\"]\n",
    "    ai_message = llm.invoke(messages)\n",
    "    return { 'messages' : [ai_message]}"
   ]
  },
  {
   "cell_type": "code",
   "execution_count": 15,
   "id": "f3c4c015",
   "metadata": {},
   "outputs": [
    {
     "data": {
      "text/plain": [
       "<langgraph.graph.state.StateGraph at 0x126c50ec0>"
      ]
     },
     "execution_count": 15,
     "metadata": {},
     "output_type": "execute_result"
    }
   ],
   "source": [
    "from langgraph.graph import START, END\n",
    "\n",
    "graph_builder.add_node(\"generate\", generate)\n",
    "graph_builder.add_edge(START, \"generate\")\n",
    "graph_builder.add_edge(\"generate\", END)\n"
   ]
  },
  {
   "cell_type": "code",
   "execution_count": 16,
   "id": "45a07a60",
   "metadata": {},
   "outputs": [],
   "source": [
    "graph = graph_builder.compile()"
   ]
  },
  {
   "cell_type": "code",
   "execution_count": 17,
   "id": "7d08fc92",
   "metadata": {},
   "outputs": [
    {
     "data": {
      "image/png": "[encoded data removed]",
      "text/plain": [
       "<IPython.core.display.Image object>"
      ]
     },
     "metadata": {},
     "output_type": "display_data"
    }
   ],
   "source": [
    "from IPython.display import Image, display\n",
    "\n",
    "display(Image(graph.get_graph().draw_mermaid_png()))"
   ]
  },
  {
   "cell_type": "code",
   "execution_count": null,
   "id": "d1607ded",
   "metadata": {},
   "outputs": [],
   "source": [
    "from langchain_core.messages import HumanMessage\n",
    "\n",
    "initial_state = {\"messages\": [HumanMessage(query)]}\n",
    "\n",
    "graph.invoke(initial_state)"
   ]
  }
 ],
 "metadata": {
  "kernelspec": {
   "display_name": ".venv",
   "language": "python",
   "name": "python3"
  },
  "language_info": {
   "codemirror_mode": {
    "name": "ipython",
    "version": 3
   },
   "file_extension": ".py",
   "mimetype": "text/x-python",
   "name": "python",
   "nbconvert_exporter": "python",
   "pygments_lexer": "ipython3",
   "version": "3.13.7"
  }
 },
 "nbformat": 4,
 "nbformat_minor": 5
}
