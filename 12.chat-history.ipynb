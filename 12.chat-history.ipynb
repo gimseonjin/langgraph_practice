{
 "cells": [
  {
   "cell_type": "code",
   "execution_count": 1,
   "id": "8c020deb",
   "metadata": {},
   "outputs": [
    {
     "data": {
      "text/plain": [
       "True"
      ]
     },
     "execution_count": 1,
     "metadata": {},
     "output_type": "execute_result"
    }
   ],
   "source": [
    "from dotenv import load_dotenv\n",
    "\n",
    "load_dotenv()"
   ]
  },
  {
   "cell_type": "code",
   "execution_count": 2,
   "id": "52873e0c",
   "metadata": {},
   "outputs": [],
   "source": [
    "# llm 설정\n",
    "from langchain_openai import ChatOpenAI\n",
    "\n",
    "llm = ChatOpenAI(model=\"gpt-4o-mini\")"
   ]
  },
  {
   "cell_type": "code",
   "execution_count": 3,
   "id": "56da2755",
   "metadata": {},
   "outputs": [],
   "source": [
    "from langchain_community.tools import DuckDuckGoSearchRun\n",
    "\n",
    "search = DuckDuckGoSearchRun()"
   ]
  },
  {
   "cell_type": "code",
   "execution_count": 4,
   "id": "7f9d2fdf",
   "metadata": {},
   "outputs": [],
   "source": [
    "from langchain_core.tools import tool\n",
    "\n",
    "@tool\n",
    "def add(a: int, b: int) -> int:\n",
    "    \"\"\"Add two numbers together\"\"\"\n",
    "    return a + b\n",
    "\n",
    "@tool\n",
    "def multiply(a: int, b: int) -> int:\n",
    "    \"\"\"Multiply two numbers together\"\"\"\n",
    "    return a * b"
   ]
  },
  {
   "cell_type": "code",
   "execution_count": 5,
   "id": "4f30493b",
   "metadata": {},
   "outputs": [],
   "source": [
    "# vector store 생성\n",
    "from langchain_chroma import Chroma\n",
    "from langchain_openai import OpenAIEmbeddings\n",
    "\n",
    "embeddings = OpenAIEmbeddings(model=\"text-embedding-3-large\")\n",
    "\n",
    "vector_store = Chroma(\n",
    "    collection_name=\"real_estate_tax\",\n",
    "    persist_directory=\"./real_estate_tax_collection\",\n",
    "    embedding_function=embeddings\n",
    ")\n",
    "\n",
    "retriver = vector_store.as_retriever(search_kwargs={\"k\": 3})"
   ]
  },
  {
   "cell_type": "code",
   "execution_count": 6,
   "id": "a1348f28",
   "metadata": {},
   "outputs": [],
   "source": [
    "from langchain_core.tools import create_retriever_tool\n",
    "\n",
    "retriever_tool = create_retriever_tool(\n",
    "    retriver, \n",
    "    \"real_estate_tax_retriever\",\n",
    "    \"Real Estate Tax Retriever\"\n",
    ")"
   ]
  },
  {
   "cell_type": "code",
   "execution_count": 7,
   "id": "c4487671",
   "metadata": {},
   "outputs": [],
   "source": [
    "from langgraph.prebuilt import ToolNode\n",
    "\n",
    "tool_list = [add, multiply, search, retriever_tool]\n",
    "\n",
    "tool_node = ToolNode(tool_list)\n",
    "llm_with_tools = llm.bind_tools(tool_list)"
   ]
  },
  {
   "cell_type": "code",
   "execution_count": 8,
   "id": "e3e49167",
   "metadata": {},
   "outputs": [],
   "source": [
    "from langgraph.graph import MessagesState, StateGraph\n",
    "\n",
    "class AgentState(MessagesState):\n",
    "    summary: str\n",
    "\n",
    "graph_builder = StateGraph(AgentState)"
   ]
  },
  {
   "cell_type": "code",
   "execution_count": 9,
   "id": "498aec14",
   "metadata": {},
   "outputs": [],
   "source": [
    "from langchain_core.messages import SystemMessage\n",
    "\n",
    "def agent(state: AgentState):\n",
    "    message = state['messages']\n",
    "    summary = state['summary']\n",
    "\n",
    "    if summary != '':\n",
    "        message = [SystemMessage(content=f\"Here is the summary of previous conversations: {summary}\")] + message\n",
    "\n",
    "    response = llm_with_tools.invoke(message)\n",
    "    return {'messages': [response]}"
   ]
  },
  {
   "cell_type": "code",
   "execution_count": 10,
   "id": "f032a9d0",
   "metadata": {},
   "outputs": [],
   "source": [
    "def summarize_messages(state: AgentState):\n",
    "    # state에서 메시지와 요약을 가져옵니다.\n",
    "    messages = state['messages']\n",
    "    summary = state['summary']\n",
    "    \n",
    "    # 요약 프롬프트를 생성합니다.\n",
    "    summary_prompt = f'summarize this chat history below: \\n\\nchat_history:{messages}'\n",
    "    \n",
    "    # 기존 요약이 있으면, 요약을 포함한 프롬프트를 생성합니다.\n",
    "    if summary != '':\n",
    "        summary_prompt = f'''summarize this chat history below while looking at the summary of earlier conversations\n",
    "chat_history:{messages}\n",
    "summary:{summary}'''\n",
    "    \n",
    "    # LLM을 사용하여 요약을 생성합니다.\n",
    "    summary = llm.invoke(summary_prompt)\n",
    "    \n",
    "    # 요약된 메시지를 반환합니다.\n",
    "    return {'summary': summary.content}\n"
   ]
  },
  {
   "cell_type": "code",
   "execution_count": 11,
   "id": "c7c403db",
   "metadata": {},
   "outputs": [],
   "source": [
    "from langchain_core.messages import RemoveMessage\n",
    "\n",
    "def delete_message(state: MessagesState):\n",
    "    current_message_list = state['messages']\n",
    "    delete_message_list = [RemoveMessage(id=message.id) for message in current_message_list[:-3]]\n",
    "    return {'messages': delete_message_list}"
   ]
  },
  {
   "cell_type": "code",
   "execution_count": 12,
   "id": "64bbc5e8",
   "metadata": {},
   "outputs": [],
   "source": [
    "from typing import Literal\n",
    "\n",
    "def should_continue(state: MessagesState) -> Literal['tools', 'summarize_messages']:\n",
    "    messages = state['messages']\n",
    "    last_message = messages[-1]\n",
    "    if last_message.tool_calls:\n",
    "        return 'tools'\n",
    "    else:\n",
    "        return 'summarize_messages'\n",
    "        "
   ]
  },
  {
   "cell_type": "code",
   "execution_count": 13,
   "id": "0d5991c5",
   "metadata": {},
   "outputs": [
    {
     "data": {
      "text/plain": [
       "<langgraph.graph.state.StateGraph at 0x11ef2e3c0>"
      ]
     },
     "execution_count": 13,
     "metadata": {},
     "output_type": "execute_result"
    }
   ],
   "source": [
    "graph_builder.add_node(agent)\n",
    "graph_builder.add_node('tools', tool_node)\n",
    "graph_builder.add_node(delete_message)\n",
    "graph_builder.add_node(summarize_messages)"
   ]
  },
  {
   "cell_type": "code",
   "execution_count": 14,
   "id": "798c1f3f",
   "metadata": {},
   "outputs": [
    {
     "data": {
      "text/plain": [
       "<langgraph.graph.state.StateGraph at 0x11ef2e3c0>"
      ]
     },
     "execution_count": 14,
     "metadata": {},
     "output_type": "execute_result"
    }
   ],
   "source": [
    "from langgraph.graph import START, END\n",
    "\n",
    "graph_builder.add_edge(START, 'agent')\n",
    "graph_builder.add_conditional_edges(\n",
    "    'agent', \n",
    "    should_continue,{\n",
    "        'tools': 'tools',\n",
    "        'summarize_messages': 'summarize_messages'\n",
    "    }\n",
    ")\n",
    "graph_builder.add_edge('tools', 'agent')\n",
    "graph_builder.add_edge('summarize_messages', 'delete_message')\n",
    "graph_builder.add_edge('delete_message', END)"
   ]
  },
  {
   "cell_type": "code",
   "execution_count": 15,
   "id": "16f1c400",
   "metadata": {},
   "outputs": [],
   "source": [
    "from langgraph.checkpoint.memory import MemorySaver\n",
    "\n",
    "checkpoint = MemorySaver()\n",
    "\n",
    "graph = graph_builder.compile(\n",
    "    checkpointer=checkpoint\n",
    ")"
   ]
  },
  {
   "cell_type": "code",
   "execution_count": 16,
   "id": "f554b529",
   "metadata": {},
   "outputs": [
    {
     "data": {
      "image/png": "[encoded data removed]",
      "text/plain": [
       "<IPython.core.display.Image object>"
      ]
     },
     "metadata": {},
     "output_type": "display_data"
    }
   ],
   "source": [
    "from IPython.display import Image, display\n",
    "\n",
    "display(Image(graph.get_graph().draw_mermaid_png()))"
   ]
  },
  {
   "cell_type": "code",
   "execution_count": 17,
   "id": "5f56351c",
   "metadata": {},
   "outputs": [],
   "source": [
    "from langchain_core.messages import HumanMessage\n",
    "\n",
    "config = {\n",
    "    'configurable': {\n",
    "        'thread_id': \"real_estate_tax\"\n",
    "    }\n",
    "}\n",
    "\n",
    "messages = [HumanMessage(content=\"집이 15억일 때 종합부동산세를 계산해줄 수 있나요?\")]"
   ]
  },
  {
   "cell_type": "code",
   "execution_count": 18,
   "id": "3a53ecda",
   "metadata": {},
   "outputs": [
    {
     "name": "stdout",
     "output_type": "stream",
     "text": [
      "================================\u001b[1m Human Message \u001b[0m=================================\n",
      "\n",
      "집이 15억일 때 종합부동산세를 계산해줄 수 있나요?\n",
      "==================================\u001b[1m Ai Message \u001b[0m==================================\n",
      "Tool Calls:\n",
      "  real_estate_tax_retriever (call_fxkrVKDwrdBf85Wh54Ikvvpv)\n",
      " Call ID: call_fxkrVKDwrdBf85Wh54Ikvvpv\n",
      "  Args:\n",
      "    query: 15억 종합부동산세\n",
      "=================================\u001b[1m Tool Message \u001b[0m=================================\n",
      "Name: real_estate_tax_retriever\n",
      "\n",
      "| 45억원 초과 | 8천250만원+(45억원을 초과하는 금액의 1천분의 30) |\n",
      "② 삭제<2008. 12. 26.>\n",
      "③종합합산과세대상인 토지의 과세표준 금액에 대하여 해당 과세대상 토지의 토지분 재산세로 부과된 세액(「지방세법」 제111조제3항에 따라 가감조정된 세율이 적용된 경우에는 그 세율이 적용된 세액, 같은 법 제122조제1따라 세부담 상한률 적용받은 경우에는 그 상한률 적용받은 세액을 말한다)은 토지분 종합합산세액에서 이를 공제한다.\n",
      "신설 2005. 12. 31, 2008. 12. 26, 2010. 3. 31.>\n",
      "④별도합산과세대상인 토지에 대한 종합부동산세의 세액은 과세표준에 다음의 세율을 적용하여 계산한 금액(이하 “토지분 별도합산세액”이라 한다)으로 한다.<개정 2008. 12. 26.>\n",
      "| 과세표준  | 세율  |\n",
      "|---|---|\n",
      "| 200억원 이하 | 1천분의 5 |\n",
      "| 200억원 초과 400억원 이하 | 1억원+(200억원을 초과하는 금액의 1천분의 10) |\n",
      "| 400억원 초과 | 2억원+(400억원을 초과하는 금액의 1천분의 12) |\n",
      "⑤ 삭제<2008. 12. 26.>\n",
      "⑥별도합산과세대상인 토지의 과세표준 금액에 대하여 해당 과세대상 토지의 토지분 재산세로 부과된 세액(「지방세법」 제111조제3항에 따라 가감조정된 세율이 적용된 경우에는 그 세율이 적용된 세액, 같은 법 제122조제1따라 세부담 상한률 적용받은 경우에는 그 상한률 적용받은 세액을 말한다)은 토지분 별도합산세액에서 이를 공제한다.\n",
      "법제처 6 국가법령정보센터\n",
      "<신설 2005. 12. 31, 2008. 12. 26, 2010. 3. 31.>\n",
      "②토지로 종합부동산세액을 계산할 때 토지분 재산세로 부과된 세액의 공제 등에 관하여 필요한 사항은 대통령령으로 정한다. <신설 2005. 12. 31, 2020. 6. 9.>\n",
      "제15조(재산분의 합산) ①종합부동산세의 납세의무자가 종합합산과세대상인 토지에 대하여 해당 연도에 납부하여야 할 재산세액상당액(신탁토지의 경우 재산세의 납세의무자가 종합합산과세대상인 해당 토지에 대하여 납부하여야 할 재산세액상당액을 말한다)과 토지분 종합합산과세상당액의 합계액(이하 이 조에서 \"종합합산과세대상인 토지에 대한 총세액상당액\"이라 한다)으로서 대통령령으로 정하는 바에 따라 계산한 세액이 해당 납세의무자가 직전년도에 해당 토지에 부과된 종합합산과세대상인 토지에 대한 총세액상당액으로서 대통령령으로 정하는 바에 따라 계산한 세액의 100분의 150을 초과하는 경우에는 그 초과하는 세액에 대하여는 제14조제1항에도 불구하고 이를 없는 것으로 본다. <개정 2005. 12. 31, 2008. 12. 26, 2020. 12. 29.>\n",
      "\n",
      "제12조(납세의무자) ① 과세기준일 현재 토지를 재산세의 납세의무자로서 다음 각호의 어느 하나에 해당하는 자는 해당 토지에 대한 종합부동산세를 납부할 의무가 있다. <개정 2005. 12. 31., 2008. 12. 26.>\n",
      " 1. 종합합산과세대상인 경우에는 국내에 소재하는 해당 과세대상토지의 공시지가를 합한 금액이 5억원을 초과하는 자\n",
      " 2. 별도합산과세대상인 경우에는 국내에 소재하는 해당 과세대상토지의 공시지가를 합한 금액이 80억원을 초과하는 자\n",
      " ② 위탁자의 명의를 등기 또는 등록된 신탁재산으로서 토지(이하 \"신탁토지\"라 한다)의 경우에는 제1항에도 불구하고 위탁자가 종합부동산세를 납부할 의무가 있다. 이 경우 위탁자가 신탁토지를 소유한 것으로 본다.<신설 2020. 12. 29.>\n",
      "[2008. 12. 26. 법률 제9273호에 의하여 2008. 11. 13. 헌법재판소에서 위헌 결정된 이 조를 개정함]\n",
      "제12조의2(신탁토지 관련 수탁자의 물납납세의무)\n",
      "신탁토지의 위탁자가 다음 각 호의 어느 하나에 해당하는 종합부동산세를 체납한 경우로서 그 위탁자의 다른 재산에 대하여 강제집행을 하여도 징수할 금액에 미치지 못할 때에는 해당 신탁토지의 수탁자는 그 신탁토지로서 위탁자가 종합부동산세등을 납부할 의무가 있다. \n",
      "1. 신탁 설정일 이후에 「국세기본법」 제35조제2항에 따른 법정기일이 도래하는 종합부동산세로서 해당 신탁토지와 관련하여 발생한 것 \n",
      "2. 제1호의 금액에 대한 강제집행 과정에서 발생한 강제집행비 \n",
      "[본조신설 2020. 12. 29.]\n",
      "제13조(과세표준)\n",
      "① 종합합산과세대상인 토지에 대한 종합부동산세의 과세표준은 납세의무자별로 해당 과세대상토지의 공시가격을 합산한 금액에서 5억원을 공제한 금액에 부동산 시장의 동향과 재정 여건 등을 고려하여 100분의 60부터 100분의 100까지의 범위에서 대통령령으로 정하는 공정시장가액비율을 곱한 금액으로 한다. <개정 2008. 12. 26.>\n",
      "② 별도합산과세대상인 토지에 대한 종합부동산세의 과세표준은 납세의무자별로 해당 과세대상토지의 공시가격을 합산한 금액에서 80억원을 공제한 금액에 부동산 시장의 동향과 재정 여건 등을 고려하여 100분의 60부터 100분의 100까지의 범위에서 대통령령으로 정하는 공정시장가액비율을 곱한 금액으로 한다.<개정 2008. 12. 26.> \n",
      "③ 제1항 또는 제2항의 금액이 영보다 작은 경우에는 영으로 본다.\n",
      "제14조(세율 및 세액)\n",
      "① 종합합산과세대상인 토지에 대한 종합부동산세의 세액은 과세표준에 다음의 세율을 적용하여 계산한 금액(이하 “토지분 종합합산세액”이라 한다)으로 한다. <개정 2018. 12. 31.>\n",
      "| 과세표준  | 세율  |\n",
      "|---|---|\n",
      "| 15억원 이하 | 1천분의 10 |\n",
      "| 15억원 초과 45억원 이하 | 1천250만원+(15억원을 초과하는 금액의 1천분의 20) |\n",
      "| 45억원 초과 | 8천250만원+(45억원을 초과하는 금액의 1천분의 30) |\n",
      "② 삭제<2008. 12. 26.>\n",
      "\n",
      "법제처              4             국가법령정보센터\n",
      "종합부동산세법\n",
      "[2008. 12. 26. 법률 제9273호에 의하여 2008. 11. 13. 헌법재판소에서 위헌 결정된 이 조를 개정함]\n",
      "제10조(세부담의 상한) 종합부동산세의 납세의무자가 해당 연도에 납부하여야 할 주택분 재산세상당액(신탁주택의 경우 재산세의 납세의무자가 납부하여야 할 주택분 재산세상당액을 말한다)과 주택분 종합부동산세액상당액의 합계액(이하 이 조에서 \"주택에 대한 총세액상당액\"이라 한다)으로서 대통령령으로 정하는 바에 따라 계산한 세액이 해당 납세의무자에게 직전년도에 해당 주택에 부과된 주택에 대한 총세액상당액으로서 대통령령으로 정하는 바에 따라 계산한 세액의 100분의 150을 초과하는 경우에는 그 초과하는 세액에 대하여서는 제9조에도 불구하고 이를 없는 것으로 본다. 다만, 납세의무자가 법인으로 보는 단체로서 제9조제2항제3호 각 목의 세율이 적용되는 경우는 그러하지 아니하다. <개정 2005. 12. 31., 2008. 12. 26., 2018. 12. 31., 2020. 8. 18., 2020. 12. 29., 2022. 12. 31., 2023. 4. 18.>\n",
      "1. 삭제 <2022. 12. 31.>\n",
      "2. 삭제 <2022. 12. 31.>\n",
      "   가. 삭제 <2020. 8. 18.>\n",
      "   나. 삭제 <2020. 8. 18.>\n",
      "제10조의2(공동명의 1주택자의 납세의무 등에 관한 특례) ① 제7조제1항에도 불구하고 과세기준일 현재 세대원 중 1인이 그 배우자와 공동으로 1주택을 소유하고 해당 세대원 및 다른 세대원의 다른 주택(제8조제2항 각 호의 어느 하나에 해당하는 주택 중 대통령령으로 정하는 주택을 제외한다)을 소유하지 아니한 경우로서 대통령령으로 정하는 경우에는 배우자와 공동으로 1주택을 소유한 자도 그 배우자 중 대통령령으로 정하는 자(이하 \"공동명의 1주택자\"라 한다)는 해당 1주택에 대한 납세의무자로 할 수 있다.\n",
      "② 제1항을 적용받으려는 납세의무자는 당해 연도 9월 16일부터 9월 30일까지 대통령령으로 정하는 바에 따라 관할 세무서장에게 신청하여야 한다.\n",
      "③ 제1항을 적용하는 경우에는 공동명의 1주택자를 1세대 1주택자로 보아 제8조에 따른 과세표준과 제9조에 따른 세율 및 세액을 계산한다.\n",
      "④ 제1항부터 제3항까지를 적용할 때 해당 주택에 대한 과세표준의 계산, 세율 및 세액, 세부담의 구체적인 계산방식, 부과절차 및 그 밖에 필요한 사항은 대통령령으로 정한다.\n",
      "[본조신설 2020. 12. 29.]\n",
      "제3장 토지에 대한 과세\n",
      "제11조(일반세범) 토지에 대한 종합부동산세는 국내에 소재하는 토지에 대하여 「지방세법」 제106조제1항제1호에 따른 종합합산과세대상(이하 \"종합합산과세대상\"이라 한다)과 같은 법 제106조제1항제2호에 따른 별도합산과세대상(이하 \"별도합산과세대상\"이라 한다)으로 구분하여 과세한다. <개정 2010. 3. 31.>\n",
      "==================================\u001b[1m Ai Message \u001b[0m==================================\n",
      "\n",
      "종합부동산세를 계산해보면, 집의 가격이 15억 원인 경우 다음과 같은 세율이 적용됩니다:\n",
      "\n",
      "1. **15억 원 이하**: 1천분의 10\n",
      "2. **15억 초과 45억 이하**: 1,250만 원 + (15억 원을 초과하는 금액의 1천분의 20)\n",
      "\n",
      "15억 원을 기준으로 계산하면:\n",
      "\n",
      "- 세액 = 15억 원 × 0.001 = 150만 원\n",
      "\n",
      "따라서, 집이 15억 원일 때 종합부동산세는 **150만 원**입니다.\n",
      "==================================\u001b[1m Ai Message \u001b[0m==================================\n",
      "\n",
      "종합부동산세를 계산해보면, 집의 가격이 15억 원인 경우 다음과 같은 세율이 적용됩니다:\n",
      "\n",
      "1. **15억 원 이하**: 1천분의 10\n",
      "2. **15억 초과 45억 이하**: 1,250만 원 + (15억 원을 초과하는 금액의 1천분의 20)\n",
      "\n",
      "15억 원을 기준으로 계산하면:\n",
      "\n",
      "- 세액 = 15억 원 × 0.001 = 150만 원\n",
      "\n",
      "따라서, 집이 15억 원일 때 종합부동산세는 **150만 원**입니다.\n",
      "==================================\u001b[1m Ai Message \u001b[0m==================================\n",
      "\n",
      "종합부동산세를 계산해보면, 집의 가격이 15억 원인 경우 다음과 같은 세율이 적용됩니다:\n",
      "\n",
      "1. **15억 원 이하**: 1천분의 10\n",
      "2. **15억 초과 45억 이하**: 1,250만 원 + (15억 원을 초과하는 금액의 1천분의 20)\n",
      "\n",
      "15억 원을 기준으로 계산하면:\n",
      "\n",
      "- 세액 = 15억 원 × 0.001 = 150만 원\n",
      "\n",
      "따라서, 집이 15억 원일 때 종합부동산세는 **150만 원**입니다.\n"
     ]
    }
   ],
   "source": [
    "for chunk in graph.stream({'messages': messages, \"summary\": \"\"}, stream_mode='values', config=config):\n",
    "    chunk['messages'][-1].pretty_print()"
   ]
  },
  {
   "cell_type": "code",
   "execution_count": 19,
   "id": "87f48f92",
   "metadata": {},
   "outputs": [
    {
     "data": {
      "text/plain": [
       "[AIMessage(content='', additional_kwargs={'refusal': None}, response_metadata={'token_usage': {'completion_tokens': 26, 'prompt_tokens': 171, 'total_tokens': 197, 'completion_tokens_details': {'accepted_prediction_tokens': 0, 'audio_tokens': 0, 'reasoning_tokens': 0, 'rejected_prediction_tokens': 0}, 'prompt_tokens_details': {'audio_tokens': 0, 'cached_tokens': 0}}, 'model_provider': 'openai', 'model_name': 'gpt-4o-mini-2024-07-18', 'system_fingerprint': 'fp_560af6e559', 'id': 'chatcmpl-CUjrOnZefboaiEnqgodiPmgiclsTm', 'service_tier': 'default', 'finish_reason': 'tool_calls', 'logprobs': None}, id='lc_run--a2849103-35a1-44a9-aca6-7d6befaeb2b6-0', tool_calls=[{'name': 'real_estate_tax_retriever', 'args': {'query': '15억 종합부동산세'}, 'id': 'call_fxkrVKDwrdBf85Wh54Ikvvpv', 'type': 'tool_call'}], usage_metadata={'input_tokens': 171, 'output_tokens': 26, 'total_tokens': 197, 'input_token_details': {'audio': 0, 'cache_read': 0}, 'output_token_details': {'audio': 0, 'reasoning': 0}}),\n",
       " ToolMessage(content='| 45억원 초과 | 8천250만원+(45억원을 초과하는 금액의 1천분의 30) |\\n② 삭제<2008. 12. 26.>\\n③종합합산과세대상인 토지의 과세표준 금액에 대하여 해당 과세대상 토지의 토지분 재산세로 부과된 세액(「지방세법」 제111조제3항에 따라 가감조정된 세율이 적용된 경우에는 그 세율이 적용된 세액, 같은 법 제122조제1따라 세부담 상한률 적용받은 경우에는 그 상한률 적용받은 세액을 말한다)은 토지분 종합합산세액에서 이를 공제한다.\\n신설 2005. 12. 31, 2008. 12. 26, 2010. 3. 31.>\\n④별도합산과세대상인 토지에 대한 종합부동산세의 세액은 과세표준에 다음의 세율을 적용하여 계산한 금액(이하 “토지분 별도합산세액”이라 한다)으로 한다.<개정 2008. 12. 26.>\\n| 과세표준  | 세율  |\\n|---|---|\\n| 200억원 이하 | 1천분의 5 |\\n| 200억원 초과 400억원 이하 | 1억원+(200억원을 초과하는 금액의 1천분의 10) |\\n| 400억원 초과 | 2억원+(400억원을 초과하는 금액의 1천분의 12) |\\n⑤ 삭제<2008. 12. 26.>\\n⑥별도합산과세대상인 토지의 과세표준 금액에 대하여 해당 과세대상 토지의 토지분 재산세로 부과된 세액(「지방세법」 제111조제3항에 따라 가감조정된 세율이 적용된 경우에는 그 세율이 적용된 세액, 같은 법 제122조제1따라 세부담 상한률 적용받은 경우에는 그 상한률 적용받은 세액을 말한다)은 토지분 별도합산세액에서 이를 공제한다.\\n법제처 6 국가법령정보센터\\n<신설 2005. 12. 31, 2008. 12. 26, 2010. 3. 31.>\\n②토지로 종합부동산세액을 계산할 때 토지분 재산세로 부과된 세액의 공제 등에 관하여 필요한 사항은 대통령령으로 정한다. <신설 2005. 12. 31, 2020. 6. 9.>\\n제15조(재산분의 합산) ①종합부동산세의 납세의무자가 종합합산과세대상인 토지에 대하여 해당 연도에 납부하여야 할 재산세액상당액(신탁토지의 경우 재산세의 납세의무자가 종합합산과세대상인 해당 토지에 대하여 납부하여야 할 재산세액상당액을 말한다)과 토지분 종합합산과세상당액의 합계액(이하 이 조에서 \"종합합산과세대상인 토지에 대한 총세액상당액\"이라 한다)으로서 대통령령으로 정하는 바에 따라 계산한 세액이 해당 납세의무자가 직전년도에 해당 토지에 부과된 종합합산과세대상인 토지에 대한 총세액상당액으로서 대통령령으로 정하는 바에 따라 계산한 세액의 100분의 150을 초과하는 경우에는 그 초과하는 세액에 대하여는 제14조제1항에도 불구하고 이를 없는 것으로 본다. <개정 2005. 12. 31, 2008. 12. 26, 2020. 12. 29.>\\n\\n제12조(납세의무자) ① 과세기준일 현재 토지를 재산세의 납세의무자로서 다음 각호의 어느 하나에 해당하는 자는 해당 토지에 대한 종합부동산세를 납부할 의무가 있다. <개정 2005. 12. 31., 2008. 12. 26.>\\n 1. 종합합산과세대상인 경우에는 국내에 소재하는 해당 과세대상토지의 공시지가를 합한 금액이 5억원을 초과하는 자\\n 2. 별도합산과세대상인 경우에는 국내에 소재하는 해당 과세대상토지의 공시지가를 합한 금액이 80억원을 초과하는 자\\n ② 위탁자의 명의를 등기 또는 등록된 신탁재산으로서 토지(이하 \"신탁토지\"라 한다)의 경우에는 제1항에도 불구하고 위탁자가 종합부동산세를 납부할 의무가 있다. 이 경우 위탁자가 신탁토지를 소유한 것으로 본다.<신설 2020. 12. 29.>\\n[2008. 12. 26. 법률 제9273호에 의하여 2008. 11. 13. 헌법재판소에서 위헌 결정된 이 조를 개정함]\\n제12조의2(신탁토지 관련 수탁자의 물납납세의무)\\n신탁토지의 위탁자가 다음 각 호의 어느 하나에 해당하는 종합부동산세를 체납한 경우로서 그 위탁자의 다른 재산에 대하여 강제집행을 하여도 징수할 금액에 미치지 못할 때에는 해당 신탁토지의 수탁자는 그 신탁토지로서 위탁자가 종합부동산세등을 납부할 의무가 있다. \\n1. 신탁 설정일 이후에 「국세기본법」 제35조제2항에 따른 법정기일이 도래하는 종합부동산세로서 해당 신탁토지와 관련하여 발생한 것 \\n2. 제1호의 금액에 대한 강제집행 과정에서 발생한 강제집행비 \\n[본조신설 2020. 12. 29.]\\n제13조(과세표준)\\n① 종합합산과세대상인 토지에 대한 종합부동산세의 과세표준은 납세의무자별로 해당 과세대상토지의 공시가격을 합산한 금액에서 5억원을 공제한 금액에 부동산 시장의 동향과 재정 여건 등을 고려하여 100분의 60부터 100분의 100까지의 범위에서 대통령령으로 정하는 공정시장가액비율을 곱한 금액으로 한다. <개정 2008. 12. 26.>\\n② 별도합산과세대상인 토지에 대한 종합부동산세의 과세표준은 납세의무자별로 해당 과세대상토지의 공시가격을 합산한 금액에서 80억원을 공제한 금액에 부동산 시장의 동향과 재정 여건 등을 고려하여 100분의 60부터 100분의 100까지의 범위에서 대통령령으로 정하는 공정시장가액비율을 곱한 금액으로 한다.<개정 2008. 12. 26.> \\n③ 제1항 또는 제2항의 금액이 영보다 작은 경우에는 영으로 본다.\\n제14조(세율 및 세액)\\n① 종합합산과세대상인 토지에 대한 종합부동산세의 세액은 과세표준에 다음의 세율을 적용하여 계산한 금액(이하 “토지분 종합합산세액”이라 한다)으로 한다. <개정 2018. 12. 31.>\\n| 과세표준  | 세율  |\\n|---|---|\\n| 15억원 이하 | 1천분의 10 |\\n| 15억원 초과 45억원 이하 | 1천250만원+(15억원을 초과하는 금액의 1천분의 20) |\\n| 45억원 초과 | 8천250만원+(45억원을 초과하는 금액의 1천분의 30) |\\n② 삭제<2008. 12. 26.>\\n\\n법제처              4             국가법령정보센터\\n종합부동산세법\\n[2008. 12. 26. 법률 제9273호에 의하여 2008. 11. 13. 헌법재판소에서 위헌 결정된 이 조를 개정함]\\n제10조(세부담의 상한) 종합부동산세의 납세의무자가 해당 연도에 납부하여야 할 주택분 재산세상당액(신탁주택의 경우 재산세의 납세의무자가 납부하여야 할 주택분 재산세상당액을 말한다)과 주택분 종합부동산세액상당액의 합계액(이하 이 조에서 \"주택에 대한 총세액상당액\"이라 한다)으로서 대통령령으로 정하는 바에 따라 계산한 세액이 해당 납세의무자에게 직전년도에 해당 주택에 부과된 주택에 대한 총세액상당액으로서 대통령령으로 정하는 바에 따라 계산한 세액의 100분의 150을 초과하는 경우에는 그 초과하는 세액에 대하여서는 제9조에도 불구하고 이를 없는 것으로 본다. 다만, 납세의무자가 법인으로 보는 단체로서 제9조제2항제3호 각 목의 세율이 적용되는 경우는 그러하지 아니하다. <개정 2005. 12. 31., 2008. 12. 26., 2018. 12. 31., 2020. 8. 18., 2020. 12. 29., 2022. 12. 31., 2023. 4. 18.>\\n1. 삭제 <2022. 12. 31.>\\n2. 삭제 <2022. 12. 31.>\\n   가. 삭제 <2020. 8. 18.>\\n   나. 삭제 <2020. 8. 18.>\\n제10조의2(공동명의 1주택자의 납세의무 등에 관한 특례) ① 제7조제1항에도 불구하고 과세기준일 현재 세대원 중 1인이 그 배우자와 공동으로 1주택을 소유하고 해당 세대원 및 다른 세대원의 다른 주택(제8조제2항 각 호의 어느 하나에 해당하는 주택 중 대통령령으로 정하는 주택을 제외한다)을 소유하지 아니한 경우로서 대통령령으로 정하는 경우에는 배우자와 공동으로 1주택을 소유한 자도 그 배우자 중 대통령령으로 정하는 자(이하 \"공동명의 1주택자\"라 한다)는 해당 1주택에 대한 납세의무자로 할 수 있다.\\n② 제1항을 적용받으려는 납세의무자는 당해 연도 9월 16일부터 9월 30일까지 대통령령으로 정하는 바에 따라 관할 세무서장에게 신청하여야 한다.\\n③ 제1항을 적용하는 경우에는 공동명의 1주택자를 1세대 1주택자로 보아 제8조에 따른 과세표준과 제9조에 따른 세율 및 세액을 계산한다.\\n④ 제1항부터 제3항까지를 적용할 때 해당 주택에 대한 과세표준의 계산, 세율 및 세액, 세부담의 구체적인 계산방식, 부과절차 및 그 밖에 필요한 사항은 대통령령으로 정한다.\\n[본조신설 2020. 12. 29.]\\n제3장 토지에 대한 과세\\n제11조(일반세범) 토지에 대한 종합부동산세는 국내에 소재하는 토지에 대하여 「지방세법」 제106조제1항제1호에 따른 종합합산과세대상(이하 \"종합합산과세대상\"이라 한다)과 같은 법 제106조제1항제2호에 따른 별도합산과세대상(이하 \"별도합산과세대상\"이라 한다)으로 구분하여 과세한다. <개정 2010. 3. 31.>', name='real_estate_tax_retriever', id='b1ee5f72-34f8-4cc8-a1de-f7d1fe23af00', tool_call_id='call_fxkrVKDwrdBf85Wh54Ikvvpv'),\n",
       " AIMessage(content='종합부동산세를 계산해보면, 집의 가격이 15억 원인 경우 다음과 같은 세율이 적용됩니다:\\n\\n1. **15억 원 이하**: 1천분의 10\\n2. **15억 초과 45억 이하**: 1,250만 원 + (15억 원을 초과하는 금액의 1천분의 20)\\n\\n15억 원을 기준으로 계산하면:\\n\\n- 세액 = 15억 원 × 0.001 = 150만 원\\n\\n따라서, 집이 15억 원일 때 종합부동산세는 **150만 원**입니다.', additional_kwargs={'refusal': None}, response_metadata={'token_usage': {'completion_tokens': 142, 'prompt_tokens': 3073, 'total_tokens': 3215, 'completion_tokens_details': {'accepted_prediction_tokens': 0, 'audio_tokens': 0, 'reasoning_tokens': 0, 'rejected_prediction_tokens': 0}, 'prompt_tokens_details': {'audio_tokens': 0, 'cached_tokens': 0}}, 'model_provider': 'openai', 'model_name': 'gpt-4o-mini-2024-07-18', 'system_fingerprint': 'fp_560af6e559', 'id': 'chatcmpl-CUjrSg5cVENhOX8uITkflbHXZtImJ', 'service_tier': 'default', 'finish_reason': 'stop', 'logprobs': None}, id='lc_run--aaf06c02-448f-401e-ba8d-be5dc13830aa-0', usage_metadata={'input_tokens': 3073, 'output_tokens': 142, 'total_tokens': 3215, 'input_token_details': {'audio': 0, 'cache_read': 0}, 'output_token_details': {'audio': 0, 'reasoning': 0}})]"
      ]
     },
     "execution_count": 19,
     "metadata": {},
     "output_type": "execute_result"
    }
   ],
   "source": [
    "current_message_list = graph.get_state(config).values['messages']\n",
    "current_message_list"
   ]
  },
  {
   "cell_type": "code",
   "execution_count": 20,
   "id": "22293eff",
   "metadata": {},
   "outputs": [
    {
     "data": {
      "text/plain": [
       "'In the chat, a user inquires about calculating the comprehensive real estate tax for a house valued at 15 billion won. The AI responds with the applicable tax rates, explaining that for homes priced at 15 billion won, the tax rate is 0.1%. Consequently, the calculation yields a tax of 1.5 million won. The conversation includes detailed tax guidelines and legal references regarding the comprehensive real estate tax before concluding with the confirmed tax amount based on the provided house value.'"
      ]
     },
     "execution_count": 20,
     "metadata": {},
     "output_type": "execute_result"
    }
   ],
   "source": [
    "current_message_list = graph.get_state(config).values['summary']\n",
    "current_message_list"
   ]
  },
  {
   "cell_type": "code",
   "execution_count": 21,
   "id": "e2875b4e",
   "metadata": {},
   "outputs": [],
   "source": [
    "# from langchain_core.messages import RemoveMessage\n",
    "\n",
    "# for index, message in enumerate(current_message_list):\n",
    "#     if index < len(current_message_list) - 1:\n",
    "#         graph.update_state(config, {'messages' : RemoveMessage(id=message.id)})"
   ]
  },
  {
   "cell_type": "code",
   "execution_count": 22,
   "id": "b83df91d",
   "metadata": {},
   "outputs": [],
   "source": [
    "# current_message_list = graph.get_state(config).values['messages']\n",
    "# current_message_list"
   ]
  },
  {
   "cell_type": "markdown",
   "id": "e8857c64",
   "metadata": {},
   "source": []
  },
  {
   "cell_type": "code",
   "execution_count": null,
   "id": "412286ce",
   "metadata": {},
   "outputs": [
    {
     "name": "stdout",
     "output_type": "stream",
     "text": [
      "================================\u001b[1m Human Message \u001b[0m=================================\n",
      "\n",
      "엥??? 나 건물 1개인데??\n"
     ]
    }
   ],
   "source": [
    "question = \"엥??? 나 건물 1개인데??\"\n",
    "for chunk in graph.stream({'messages': HumanMessage(content=question)}, stream_mode='values', config=config):\n",
    "    chunk['messages'][-1].pretty_print()"
   ]
  },
  {
   "cell_type": "code",
   "execution_count": null,
   "id": "f8285621",
   "metadata": {},
   "outputs": [],
   "source": [
    "messages = graph.get_state(config).values['messages']\n",
    "summary = graph.get_state(config).values['summary']\n",
    "print(messages)\n",
    "print(summary)"
   ]
  },
  {
   "cell_type": "code",
   "execution_count": 24,
   "id": "1d3644f1",
   "metadata": {},
   "outputs": [],
   "source": [
    "# question = \"어디서는 1340만원이라는데?? 어떻게 된거야?\"\n",
    "# for chunk in graph.stream({'messages': HumanMessage(content=question)}, stream_mode='values', config=config):\n",
    "#     chunk['messages'][-1].pretty_print()"
   ]
  },
  {
   "cell_type": "code",
   "execution_count": null,
   "id": "002ff7de",
   "metadata": {},
   "outputs": [],
   "source": []
  }
 ],
 "metadata": {
  "kernelspec": {
   "display_name": ".venv",
   "language": "python",
   "name": "python3"
  },
  "language_info": {
   "codemirror_mode": {
    "name": "ipython",
    "version": 3
   },
   "file_extension": ".py",
   "mimetype": "text/x-python",
   "name": "python",
   "nbconvert_exporter": "python",
   "pygments_lexer": "ipython3",
   "version": "3.13.7"
  }
 },
 "nbformat": 4,
 "nbformat_minor": 5
}
